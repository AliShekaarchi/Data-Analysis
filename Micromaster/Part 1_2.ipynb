{
 "cells": [
  {
   "attachments": {},
   "cell_type": "markdown",
   "metadata": {},
   "source": [
    "# Data analysis"
   ]
  },
  {
   "attachments": {},
   "cell_type": "markdown",
   "metadata": {},
   "source": [
    "**Execute the cell below. By running this cell, a dataset will be loaded from `patents.csv` file. There are three numpy arrays in this dataset:**\n",
    "- `category`: the category to which a patent belongs \n",
    "- `patent_number`: a unique identifier for each patetnt\n",
    "- `patent features`: a vector of 16 features describing several properties of each patent\n"
   ]
  },
  {
   "cell_type": "code",
   "execution_count": 1,
   "metadata": {},
   "outputs": [],
   "source": [
    "import pandas as pd\n",
    "import numpy as np\n",
    "\n",
    "df = pd.read_csv('patents.csv')\n",
    "patent_features = df['patent_embedding'].to_numpy()\n",
    "features_array = []\n",
    "for i in range(patent_features.size):\n",
    "    feature = str(patent_features[i])\n",
    "    feature = feature.replace(r'\\n', '')\n",
    "    features_array.append(\n",
    "        np.array(feature.split()[1:-1], dtype='float')[:16]\n",
    "    )\n",
    "patent_features = np.stack(features_array)\n",
    "patent_category = df['category'].to_numpy()\n",
    "patent_number = df['publication_number'].to_numpy()"
   ]
  },
  {
   "cell_type": "markdown",
   "metadata": {},
   "source": [
    "<hr />"
   ]
  },
  {
   "cell_type": "markdown",
   "metadata": {},
   "source": [
    "1- Which patent has the highest norm? (Eucledian distance from origin)\n"
   ]
  },
  {
   "cell_type": "code",
   "execution_count": 2,
   "metadata": {},
   "outputs": [
    {
     "name": "stdout",
     "output_type": "stream",
     "text": [
      "CH-527846-A\n"
     ]
    }
   ],
   "source": [
    "def norm(v):\n",
    "    sum = 0\n",
    "    for i in v:\n",
    "        sum += i**2\n",
    "    sum **= 0.5\n",
    "    return sum\n",
    "    \n",
    "patent_features_norm_list = []\n",
    "for i in patent_features:\n",
    "    patent_features_norm_list.append(norm(i))\n",
    "maxnorm_index = np.argmax(patent_features_norm_list)\n",
    "print(patent_number[maxnorm_index])"
   ]
  },
  {
   "cell_type": "markdown",
   "metadata": {},
   "source": [
    "2- Find the two patents that are the farthest from eachother."
   ]
  },
  {
   "cell_type": "code",
   "execution_count": 3,
   "metadata": {},
   "outputs": [],
   "source": [
    "def distance(v,w):\n",
    "    sum = 0\n",
    "    for i in range(len(v)):\n",
    "        sum += (v[i]-w[i])**2\n",
    "    sum **= 0.5\n",
    "    return sum"
   ]
  },
  {
   "cell_type": "code",
   "execution_count": 6,
   "metadata": {},
   "outputs": [
    {
     "name": "stdout",
     "output_type": "stream",
     "text": [
      "{'i': 1661, 'j': 9236, 'dest': 0.5612983586484407}\n"
     ]
    }
   ],
   "source": [
    "def distance(v,w):\n",
    "    sum = 0\n",
    "    for i in range(len(v)):\n",
    "        sum += (v[i]-w[i])**2\n",
    "    sum **= 0.5\n",
    "    return sum\n",
    "\n",
    "n = len(patent_features)\n",
    "max_points={\"i\":-1, \"j\":-1, \"dest\":0}\n",
    "for i in range(n):\n",
    "    for j in range(i+1,n):\n",
    "        dst = distance(patent_features[i],patent_features[j])\n",
    "        if dst > max_points[\"dest\"]:\n",
    "            max_points = {\"i\":i, \"j\":j, \"dest\":dst}\n",
    "print(\"first patent\", patent_number[max_points[\"i\"]],\"second patent\", patent_number[max_points[\"j\"]],\"maximum_distance\", max_points[\"dest\"])"
   ]
  },
  {
   "cell_type": "code",
   "execution_count": 4,
   "metadata": {},
   "outputs": [
    {
     "name": "stdout",
     "output_type": "stream",
     "text": [
      "first patent KR-100793527-B1 second patent US-3240764-A maximum_distance 0.5612983586484407\n"
     ]
    }
   ],
   "source": [
    "from scipy.spatial.distance import pdist, squareform\n",
    "import numpy as np\n",
    "\n",
    "def farthest_points(points):\n",
    "    # Calculate pairwise distances\n",
    "    pairwise_distances = squareform(pdist(points))\n",
    "    # Find the indices of the two farthest points\n",
    "    idx_max = np.unravel_index(np.argmax(pairwise_distances), pairwise_distances.shape)\n",
    "    # Return the two farthest points and their distance\n",
    "    p1_index = np.where(patent_features == points[idx_max[0]])[0][0]\n",
    "    p2_index = np.where(patent_features == points[idx_max[1]])[0][0]\n",
    "    max_distance = pairwise_distances[idx_max]\n",
    "    return patent_number[p1_index], patent_number[p2_index], max_distance\n",
    "\n",
    "p1, p2, max_distance = farthest_points(patent_features)\n",
    "print(\"first patent\", p1, \"second patent\", p2, \"maximum_distance\", max_distance)"
   ]
  },
  {
   "cell_type": "markdown",
   "metadata": {},
   "source": [
    "3- Write a function that, given a patent number, finds its nearest neighbour.\n"
   ]
  },
  {
   "cell_type": "code",
   "execution_count": 5,
   "metadata": {},
   "outputs": [
    {
     "name": "stdout",
     "output_type": "stream",
     "text": [
      "nearest neighbour KR-20010012196-A distance 0.1252962179701647\n"
     ]
    }
   ],
   "source": [
    "def nearest_nneighbour(pn):\n",
    "    index = np.where(patent_number == pn)[0][0]\n",
    "    pf = patent_features[index]\n",
    "    min_point={\"index\":0, \"dest\":distance(pf, patent_features[0])}\n",
    "    for i in range(len(patent_features)):\n",
    "        dst = distance(pf, patent_features[i])\n",
    "        if dst < min_point[\"dest\"] and dst != 0:\n",
    "            min_point={\"index\":i, \"dest\":distance(pf, patent_features[i])}\n",
    "    return patent_number[min_point[\"index\"]], min_point[\"dest\"]\n",
    "\n",
    "mnpnt, dest = nearest_nneighbour(\"CH-527846-A\")\n",
    "print(\"nearest neighbour\", mnpnt, \"distance\", dest)"
   ]
  },
  {
   "cell_type": "markdown",
   "metadata": {},
   "source": [
    "4- For each patent category, find the cluster center. This quantity is computed by taking average of all patents associated with each cluster."
   ]
  },
  {
   "cell_type": "code",
   "execution_count": 6,
   "metadata": {},
   "outputs": [
    {
     "name": "stdout",
     "output_type": "stream",
     "text": [
      "category 1 avrage 0.13408030936722637\n",
      "category 6 avrage 0.13426804805770412\n",
      "category 0 avrage 0.1450858421278388\n",
      "category 2 avrage 0.17691974197064822\n",
      "category 4 avrage 0.13361326635902038\n",
      "category 3 avrage 0.15337138585662585\n",
      "category 7 avrage 0.13193580022827328\n",
      "category 5 avrage 0.1602139323292626\n"
     ]
    }
   ],
   "source": [
    "categories = []\n",
    "for i in patent_category:\n",
    "    if i not in categories:\n",
    "        categories.append(i)\n",
    "results = []\n",
    "for i in categories:\n",
    "    count = 0\n",
    "    sum = 0\n",
    "    for j in range(len(patent_category)):\n",
    "        if i == patent_category[j]:\n",
    "            count += 1\n",
    "            sum += norm(patent_features[j])\n",
    "    cluster_av = sum/count\n",
    "    results.append((i, cluster_av))\n",
    "for i in results:\n",
    "    print(\"category\", i[0], \"avrage\", i[1])"
   ]
  },
  {
   "cell_type": "markdown",
   "metadata": {},
   "source": [
    "5- How many patents have a nearest neighbour that is in the same category?"
   ]
  },
  {
   "cell_type": "code",
   "execution_count": 7,
   "metadata": {},
   "outputs": [
    {
     "name": "stdout",
     "output_type": "stream",
     "text": [
      "13000\n"
     ]
    }
   ],
   "source": [
    "from scipy.spatial import distance\n",
    "\n",
    "distances = distance.cdist(patent_features, patent_features, metric='euclidean')\n",
    "diagonal_matrix = np.eye(len(patent_features))\n",
    "distances += diagonal_matrix\n",
    "nearest_neighbors = np.argmin(distances, axis=1)\n",
    "count = 0\n",
    "for i in range(len(patent_features)):\n",
    "    if patent_category[i] == patent_category[nearest_neighbors[i]]:\n",
    "        count += 1\n",
    "print(count)"
   ]
  },
  {
   "cell_type": "markdown",
   "metadata": {},
   "source": [
    "6- What is the average and std of distances between every pair of patents?\n"
   ]
  },
  {
   "cell_type": "code",
   "execution_count": 8,
   "metadata": {},
   "outputs": [
    {
     "name": "stdout",
     "output_type": "stream",
     "text": [
      "avrage 0.1774779588870755 std 0.06172153433074445\n"
     ]
    }
   ],
   "source": [
    "from scipy.spatial import distance\n",
    "\n",
    "distances = distance.cdist(patent_features, patent_features, metric='euclidean')\n",
    "distances_1d = np.reshape(distances, (len(distances)**2,))\n",
    "av = np.mean(distances_1d)\n",
    "std = np.std(distances_1d)\n",
    "print(\"avrage\", av, \"std\", std)"
   ]
  },
  {
   "cell_type": "markdown",
   "metadata": {},
   "source": [
    "7- What is the average and std of distances between every pair of patents within a category?\n",
    "Using these calculated quantities, which cluster do you think is more condensed? Which one is more scattered?"
   ]
  },
  {
   "cell_type": "code",
   "execution_count": 9,
   "metadata": {},
   "outputs": [
    {
     "name": "stdout",
     "output_type": "stream",
     "text": [
      "(1, (0.10235593475072612, 0.030560683465341895))\n",
      "(6, (0.1040055310233456, 0.03180215536017749))\n",
      "(0, (0.13098792252469746, 0.03973015614729102))\n",
      "(2, (0.14095499322691948, 0.04403433221841342))\n",
      "(4, (0.13610883703695129, 0.04026897604426641))\n",
      "(3, (0.13874011203724912, 0.04483107158434705))\n",
      "(7, (0.13052366960262599, 0.03853325352892595))\n",
      "(5, (0.13459851471369638, 0.04241648037596702))\n",
      "max std (3, 0.04483107158434705)\n",
      "min std (1, 0.030560683465341895)\n"
     ]
    }
   ],
   "source": [
    "from scipy.spatial import distance\n",
    "\n",
    "def distances_functin(category_patent_features):\n",
    "    distances = distance.cdist(category_patent_features, category_patent_features, metric='euclidean')\n",
    "    distances_1d = np.reshape(distances, (len(distances)**2,))\n",
    "    return np.mean(distances_1d), np.std(distances_1d)\n",
    "\n",
    "categories_dict = {i:None for i in categories} \n",
    "for i in categories_dict:\n",
    "    category_lst = []\n",
    "    for j in range(len(patent_category)):\n",
    "        if patent_category[j] == i:\n",
    "            category_lst.append(patent_features[j])\n",
    "    categories_dict[i] = category_lst\n",
    "categories_properties = []\n",
    "for i in categories_dict:\n",
    "    categories_properties.append((i, distances_functin(categories_dict[i])))\n",
    "categories_std = []\n",
    "for i in categories_properties:\n",
    "    print(i)\n",
    "    categories_std.append((i[0], i[1][1]))\n",
    "categories_std.sort(key = lambda x: x[1])\n",
    "print(\"max std\",categories_std[-1])\n",
    "print(\"min std\",categories_std[0])"
   ]
  },
  {
   "attachments": {},
   "cell_type": "markdown",
   "metadata": {},
   "source": [
    "8- What is your analysis from this dataset?"
   ]
  },
  {
   "cell_type": "markdown",
   "metadata": {},
   "source": [
    "خوشه بندی داده‌ها به نحو مناسبی انجام شده است زیرا مشاهده میشود که مرکزیت(میانگین) و پراکندگی(انحراف معیار) داده‌ها در خوشه های مختلف مقادیر نزدیک بهمی دارند"
   ]
  },
  {
   "cell_type": "markdown",
   "metadata": {},
   "source": [
    "9- Identify and visualize the distribution of patent categories."
   ]
  },
  {
   "cell_type": "code",
   "execution_count": 46,
   "metadata": {},
   "outputs": [],
   "source": [
    "categories_dict = {i:None for i in categories} \n",
    "for i in categories_dict:\n",
    "    category_lst = []\n",
    "    for j in range(len(patent_category)):\n",
    "        if patent_category[j] == i:\n",
    "            category_lst.append(patent_features[j])\n",
    "    categories_dict[i] = category_lst\n",
    "categories_norm_dict = {i:None for i in categories} \n",
    "for i in categories_dict:\n",
    "    category_norm_list = []\n",
    "    for j in categories_dict[i]:\n",
    "        category_norm_list.append(norm(j))\n",
    "    categories_norm_dict[i] = category_norm_list"
   ]
  },
  {
   "cell_type": "code",
   "execution_count": 47,
   "metadata": {},
   "outputs": [
    {
     "data": {
      "image/png": "[encoded data removed]",
      "text/plain": [
       "<Figure size 640x480 with 1 Axes>"
      ]
     },
     "metadata": {},
     "output_type": "display_data"
    }
   ],
   "source": [
    "category_0 = categories_norm_dict[0]\n",
    "plt.hist(category_0, bins=40)\n",
    "plt.show()"
   ]
  },
  {
   "cell_type": "code",
   "execution_count": 48,
   "metadata": {},
   "outputs": [
    {
     "data": {
      "image/png": "[encoded data removed]",
      "text/plain": [
       "<Figure size 640x480 with 1 Axes>"
      ]
     },
     "metadata": {},
     "output_type": "display_data"
    }
   ],
   "source": [
    "category_1 = categories_norm_dict[1]\n",
    "plt.hist(category_1, bins=40)\n",
    "plt.show()"
   ]
  },
  {
   "cell_type": "code",
   "execution_count": 49,
   "metadata": {},
   "outputs": [
    {
     "data": {
      "image/png": "[encoded data removed]",
      "text/plain": [
       "<Figure size 640x480 with 1 Axes>"
      ]
     },
     "metadata": {},
     "output_type": "display_data"
    }
   ],
   "source": [
    "category_2 = categories_norm_dict[2]\n",
    "plt.hist(category_2, bins=40)\n",
    "plt.show()"
   ]
  },
  {
   "cell_type": "code",
   "execution_count": 50,
   "metadata": {},
   "outputs": [
    {
     "data": {
      "image/png": "[encoded data removed]",
      "text/plain": [
       "<Figure size 640x480 with 1 Axes>"
      ]
     },
     "metadata": {},
     "output_type": "display_data"
    }
   ],
   "source": [
    "category_3 = categories_norm_dict[3]\n",
    "plt.hist(category_3, bins=40)\n",
    "plt.show()"
   ]
  },
  {
   "cell_type": "code",
   "execution_count": 51,
   "metadata": {},
   "outputs": [
    {
     "data": {
      "image/png": "[encoded data removed]",
      "text/plain": [
       "<Figure size 640x480 with 1 Axes>"
      ]
     },
     "metadata": {},
     "output_type": "display_data"
    }
   ],
   "source": [
    "category_4 = categories_norm_dict[4]\n",
    "plt.hist(category_4, bins=40)\n",
    "plt.show()"
   ]
  },
  {
   "cell_type": "code",
   "execution_count": 52,
   "metadata": {},
   "outputs": [
    {
     "data": {
      "image/png": "[encoded data removed]",
      "text/plain": [
       "<Figure size 640x480 with 1 Axes>"
      ]
     },
     "metadata": {},
     "output_type": "display_data"
    }
   ],
   "source": [
    "category_5 = categories_norm_dict[5]\n",
    "plt.hist(category_5, bins=40)\n",
    "plt.show()"
   ]
  },
  {
   "cell_type": "code",
   "execution_count": 53,
   "metadata": {},
   "outputs": [
    {
     "data": {
      "image/png": "[encoded data removed]",
      "text/plain": [
       "<Figure size 640x480 with 1 Axes>"
      ]
     },
     "metadata": {},
     "output_type": "display_data"
    }
   ],
   "source": [
    "category_6 = categories_norm_dict[6]\n",
    "plt.hist(category_6, bins=40)\n",
    "plt.show()"
   ]
  },
  {
   "cell_type": "code",
   "execution_count": 54,
   "metadata": {},
   "outputs": [
    {
     "data": {
      "image/png": "[encoded data removed]",
      "text/plain": [
       "<Figure size 640x480 with 1 Axes>"
      ]
     },
     "metadata": {},
     "output_type": "display_data"
    }
   ],
   "source": [
    "category_7 = categories_norm_dict[7]\n",
    "plt.hist(category_7, bins=40)\n",
    "plt.show()"
   ]
  },
  {
   "cell_type": "markdown",
   "metadata": {},
   "source": [
    "بنظر میرسد فاصله‌ها در همه خوشه‌ها با کمی اغماض توزیعی راست چوله دارند"
   ]
  },
  {
   "cell_type": "markdown",
   "metadata": {},
   "source": [
    "10- Perform Principal Component Analysis (PCA) on the patent features to reduce dimensionality. (Bonus)"
   ]
  },
  {
   "cell_type": "code",
   "execution_count": null,
   "metadata": {},
   "outputs": [],
   "source": []
  }
 ],
 "metadata": {
  "kernelspec": {
   "display_name": "Python 3 (ipykernel)",
   "language": "python",
   "name": "python3"
  },
  "language_info": {
   "codemirror_mode": {
    "name": "ipython",
    "version": 3
   },
   "file_extension": ".py",
   "mimetype": "text/x-python",
   "name": "python",
   "nbconvert_exporter": "python",
   "pygments_lexer": "ipython3",
   "version": "3.12.2"
  },
  "vscode": {
   "interpreter": {
    "hash": "916dbcbb3f70747c44a77c7bcd40155683ae19c65e1c03b4aa3499c5328201f1"
   }
  }
 },
 "nbformat": 4,
 "nbformat_minor": 4
}

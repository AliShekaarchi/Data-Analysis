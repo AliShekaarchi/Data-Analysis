{
 "cells": [
  {
   "cell_type": "markdown",
   "id": "94b06932",
   "metadata": {
    "papermill": {
     "duration": 0.020571,
     "end_time": "2024-03-26T10:32:31.584656",
     "exception": false,
     "start_time": "2024-03-26T10:32:31.564085",
     "status": "completed"
    },
    "tags": []
   },
   "source": [
    "<html lang=\"en\">\n",
    "<head>\n",
    "<meta charset=\"UTF-8\">\n",
    "<meta name=\"viewport\" content=\"width=device-width, initial-scale=1.0\">\n",
    "</head>\n",
    "<body>\n",
    "\n",
    "<div style=\"text-align: center;\">\n",
    "    <img src=\"https://github.com/MoeeinAali/Micromaster-ProgrammingForDataAnalysis-Winter2024-Assignment04/blob/97fdfd106cd557f3ea3e4354354f1c6357f9ff45/micromaster.png?raw=true\" width=170 alt=\"micromaster_logo\">\n",
    "    <br>\n",
    "<font face=\"Times New Roman\">\n",
    "<div dir=ltr align=center>\n",
    "<font color=0F5298 size=6>\n",
    "    <b>Sharif Micromaster</b>\n",
    "     <br>\n",
    "<font color=0F5298 size=6>\n",
    "   Programming For Data Analysis ~ Winter 2024\n",
    "  <br>\n",
    "<font color=606060 size=5>\n",
    "    Assignment 4: Introduction to Pandas, Matplotlib, Seaborn \n",
    "</div>\n",
    "</body>\n",
    "</html>\n",
    "<hr>"
   ]
  },
  {
   "cell_type": "markdown",
   "id": "483a6240",
   "metadata": {
    "papermill": {
     "duration": 0.021866,
     "end_time": "2024-03-26T10:32:31.626329",
     "exception": false,
     "start_time": "2024-03-26T10:32:31.604463",
     "status": "completed"
    },
    "tags": []
   },
   "source": [
    "<div><font face=\"Times New Roman\" size=6><div dir=ltr align=left><font color=686880 size=4>\n",
    "    Name:\n",
    "    <br>\n",
    "    No.: "
   ]
  },
  {
   "cell_type": "markdown",
   "id": "c1b95402",
   "metadata": {
    "id": "n36HI7Oa3_4M",
    "jp-MarkdownHeadingCollapsed": true,
    "papermill": {
     "duration": 0.019529,
     "end_time": "2024-03-26T10:32:31.666802",
     "exception": false,
     "start_time": "2024-03-26T10:32:31.647273",
     "status": "completed"
    },
    "tags": []
   },
   "source": [
    "## Notebook Content\n",
    "0. [Introduction](#Introduction)\n",
    "1. [Importing Libraries](#importing-libraries)\n",
    "2. [Loading Dataset](#loading-dataset)\n",
    "3. [Basic Understanding of Dataset](#basic-understanding-of-dataset)\n",
    "4. [Exploratory Data Analysis](#exploratory-data-analysis)\n",
    "5. [Feature Engineering](#feature-engineering)\n",
    "6. [Data Pre-Processing](#data-pre-processing)"
   ]
  },
  {
   "cell_type": "markdown",
   "id": "12830a7a",
   "metadata": {
    "papermill": {
     "duration": 0.020245,
     "end_time": "2024-03-26T10:32:31.706710",
     "exception": false,
     "start_time": "2024-03-26T10:32:31.686465",
     "status": "completed"
    },
    "tags": []
   },
   "source": [
    "# Introduction\n",
    "This project aims to perform data preparation and initial analysis on a real estate dataset. The dataset includes information about properties from both sales and rental listings, sourced from various sources. The goal is to gain insights into the characteristics of the real estate market and prepare the data for further analysis or modeling.\n",
    "\n",
    "### **Project Steps**\n",
    "\n",
    "1. Data Loading and Inspection\n",
    "   - **Data Collection**: Real estate data is collected from multiple sources, including online listings and databases.\n",
    "   - **Initial Inspection**: The structure and basic characteristics of the dataset are examined, including the number of records, columns, and data types.\n",
    "\n",
    "\n",
    "2. Data Preprocessing\n",
    "   - **Duplicate Data Removal**: Any duplicate records in the dataset are identified and removed to ensure data integrity.\n",
    "   - **Data Type Identification**: The data types of columns are determined, and appropriate conversions are made if necessary.\n",
    "   - **Missing Data Handling**: Missing values in the dataset are addressed through imputation or removal, depending on the context.\n",
    "   - **Outlier Detection**: Outliers in the data, which may skew analysis results, are identified and processed using statistical methods.\n",
    "   - **Feature Engineering**: New features are created based on existing ones to enhance the predictive power of the dataset.\n",
    "\n",
    "\n",
    "3. Data Analysis and Exploration\n",
    "   - **Correlation Analysis**: Relationships between different variables in the dataset are explored using correlation matrices and visualizations.\n",
    "   - **Distribution Analysis**: The distribution of key variables, such as price and area, is examined to understand their patterns and characteristics.\n",
    "   - **Visualization**: Various plots and charts are created to visualize the data and gain insights into underlying trends and patterns.\n",
    "\n",
    "\n",
    "4. Data Modeling Preparation\n",
    "   - **Feature Selection**: Relevant features for modeling are selected based on their importance and contribution to the target variable.\n",
    "   - **Data Splitting**: The dataset is divided into training and testing sets to facilitate model training and evaluation.\n",
    "\n",
    "\n",
    "5. Conclusion\n",
    "   - This project serves as a foundational step in the analysis of real estate data. By preparing the dataset and performing initial exploratory analysis, it sets the stage for further analysis or modeling tasks. The insights gained from this project can be used by stakeholders in the real estate industry for decision-making and strategic planning.\n"
   ]
  },
  {
   "cell_type": "markdown",
   "id": "7ef3b757",
   "metadata": {
    "papermill": {
     "duration": 0.019343,
     "end_time": "2024-03-26T10:32:31.744945",
     "exception": false,
     "start_time": "2024-03-26T10:32:31.725602",
     "status": "completed"
    },
    "tags": []
   },
   "source": [
    "### Importing Libraries\n"
   ]
  },
  {
   "cell_type": "code",
   "execution_count": 303,
   "id": "a22ded0c",
   "metadata": {
    "papermill": {
     "duration": 0.030288,
     "end_time": "2024-03-26T10:32:31.794897",
     "exception": false,
     "start_time": "2024-03-26T10:32:31.764609",
     "status": "completed"
    },
    "tags": []
   },
   "outputs": [],
   "source": [
    "# TODO: Import Required libraries\n",
    "import numpy as np\n",
    "import pandas as pd\n",
    "import matplotlib.pyplot as plt\n",
    "import seaborn as sns"
   ]
  },
  {
   "cell_type": "markdown",
   "id": "8e7d6231",
   "metadata": {
    "papermill": {
     "duration": 0.019678,
     "end_time": "2024-03-26T10:32:31.834319",
     "exception": false,
     "start_time": "2024-03-26T10:32:31.814641",
     "status": "completed"
    },
    "tags": []
   },
   "source": [
    "### Loading Dataset"
   ]
  },
  {
   "cell_type": "code",
   "execution_count": 304,
   "id": "ce96b856",
   "metadata": {
    "papermill": {
     "duration": 0.027231,
     "end_time": "2024-03-26T10:32:31.880910",
     "exception": false,
     "start_time": "2024-03-26T10:32:31.853679",
     "status": "completed"
    },
    "tags": []
   },
   "outputs": [
    {
     "data": {
      "text/html": [
       "<div>\n",
       "<style scoped>\n",
       "    .dataframe tbody tr th:only-of-type {\n",
       "        vertical-align: middle;\n",
       "    }\n",
       "\n",
       "    .dataframe tbody tr th {\n",
       "        vertical-align: top;\n",
       "    }\n",
       "\n",
       "    .dataframe thead th {\n",
       "        text-align: right;\n",
       "    }\n",
       "</style>\n",
       "<table border=\"1\" class=\"dataframe\">\n",
       "  <thead>\n",
       "    <tr style=\"text-align: right;\">\n",
       "      <th></th>\n",
       "      <th>Area</th>\n",
       "      <th>Room</th>\n",
       "      <th>Parking</th>\n",
       "      <th>Warehouse</th>\n",
       "      <th>Elevator</th>\n",
       "      <th>Address</th>\n",
       "      <th>Price</th>\n",
       "      <th>Price(USD)</th>\n",
       "    </tr>\n",
       "  </thead>\n",
       "  <tbody>\n",
       "    <tr>\n",
       "      <th>0</th>\n",
       "      <td>63</td>\n",
       "      <td>1</td>\n",
       "      <td>True</td>\n",
       "      <td>True</td>\n",
       "      <td>True</td>\n",
       "      <td>Shahran</td>\n",
       "      <td>1.850000e+09</td>\n",
       "      <td>61666.67</td>\n",
       "    </tr>\n",
       "    <tr>\n",
       "      <th>1</th>\n",
       "      <td>60</td>\n",
       "      <td>1</td>\n",
       "      <td>True</td>\n",
       "      <td>True</td>\n",
       "      <td>True</td>\n",
       "      <td>Shahran</td>\n",
       "      <td>1.850000e+09</td>\n",
       "      <td>61666.67</td>\n",
       "    </tr>\n",
       "    <tr>\n",
       "      <th>2</th>\n",
       "      <td>79</td>\n",
       "      <td>2</td>\n",
       "      <td>True</td>\n",
       "      <td>True</td>\n",
       "      <td>True</td>\n",
       "      <td>Pardis</td>\n",
       "      <td>5.500000e+08</td>\n",
       "      <td>18333.33</td>\n",
       "    </tr>\n",
       "    <tr>\n",
       "      <th>3</th>\n",
       "      <td>95</td>\n",
       "      <td>2</td>\n",
       "      <td>True</td>\n",
       "      <td>True</td>\n",
       "      <td>True</td>\n",
       "      <td>Shahrake Qods</td>\n",
       "      <td>9.025000e+08</td>\n",
       "      <td>30083.33</td>\n",
       "    </tr>\n",
       "    <tr>\n",
       "      <th>4</th>\n",
       "      <td>123</td>\n",
       "      <td>2</td>\n",
       "      <td>True</td>\n",
       "      <td>True</td>\n",
       "      <td>True</td>\n",
       "      <td>Shahrake Gharb</td>\n",
       "      <td>7.000000e+09</td>\n",
       "      <td>233333.33</td>\n",
       "    </tr>\n",
       "    <tr>\n",
       "      <th>...</th>\n",
       "      <td>...</td>\n",
       "      <td>...</td>\n",
       "      <td>...</td>\n",
       "      <td>...</td>\n",
       "      <td>...</td>\n",
       "      <td>...</td>\n",
       "      <td>...</td>\n",
       "      <td>...</td>\n",
       "    </tr>\n",
       "    <tr>\n",
       "      <th>3474</th>\n",
       "      <td>86</td>\n",
       "      <td>2</td>\n",
       "      <td>True</td>\n",
       "      <td>True</td>\n",
       "      <td>True</td>\n",
       "      <td>Southern Janatabad</td>\n",
       "      <td>3.500000e+09</td>\n",
       "      <td>116666.67</td>\n",
       "    </tr>\n",
       "    <tr>\n",
       "      <th>3475</th>\n",
       "      <td>83</td>\n",
       "      <td>2</td>\n",
       "      <td>True</td>\n",
       "      <td>True</td>\n",
       "      <td>True</td>\n",
       "      <td>Niavaran</td>\n",
       "      <td>6.800000e+09</td>\n",
       "      <td>226666.67</td>\n",
       "    </tr>\n",
       "    <tr>\n",
       "      <th>3476</th>\n",
       "      <td>75</td>\n",
       "      <td>2</td>\n",
       "      <td>False</td>\n",
       "      <td>False</td>\n",
       "      <td>False</td>\n",
       "      <td>Parand</td>\n",
       "      <td>3.650000e+08</td>\n",
       "      <td>12166.67</td>\n",
       "    </tr>\n",
       "    <tr>\n",
       "      <th>3477</th>\n",
       "      <td>105</td>\n",
       "      <td>2</td>\n",
       "      <td>True</td>\n",
       "      <td>True</td>\n",
       "      <td>True</td>\n",
       "      <td>Dorous</td>\n",
       "      <td>5.600000e+09</td>\n",
       "      <td>186666.67</td>\n",
       "    </tr>\n",
       "    <tr>\n",
       "      <th>3478</th>\n",
       "      <td>82</td>\n",
       "      <td>2</td>\n",
       "      <td>False</td>\n",
       "      <td>True</td>\n",
       "      <td>True</td>\n",
       "      <td>Parand</td>\n",
       "      <td>3.600000e+08</td>\n",
       "      <td>12000.00</td>\n",
       "    </tr>\n",
       "  </tbody>\n",
       "</table>\n",
       "<p>3479 rows × 8 columns</p>\n",
       "</div>"
      ],
      "text/plain": [
       "     Area  Room  Parking  Warehouse  Elevator             Address  \\\n",
       "0      63     1     True       True      True             Shahran   \n",
       "1      60     1     True       True      True             Shahran   \n",
       "2      79     2     True       True      True              Pardis   \n",
       "3      95     2     True       True      True       Shahrake Qods   \n",
       "4     123     2     True       True      True      Shahrake Gharb   \n",
       "...   ...   ...      ...        ...       ...                 ...   \n",
       "3474   86     2     True       True      True  Southern Janatabad   \n",
       "3475   83     2     True       True      True            Niavaran   \n",
       "3476   75     2    False      False     False              Parand   \n",
       "3477  105     2     True       True      True              Dorous   \n",
       "3478   82     2    False       True      True              Parand   \n",
       "\n",
       "             Price  Price(USD)  \n",
       "0     1.850000e+09    61666.67  \n",
       "1     1.850000e+09    61666.67  \n",
       "2     5.500000e+08    18333.33  \n",
       "3     9.025000e+08    30083.33  \n",
       "4     7.000000e+09   233333.33  \n",
       "...            ...         ...  \n",
       "3474  3.500000e+09   116666.67  \n",
       "3475  6.800000e+09   226666.67  \n",
       "3476  3.650000e+08    12166.67  \n",
       "3477  5.600000e+09   186666.67  \n",
       "3478  3.600000e+08    12000.00  \n",
       "\n",
       "[3479 rows x 8 columns]"
      ]
     },
     "execution_count": 304,
     "metadata": {},
     "output_type": "execute_result"
    }
   ],
   "source": [
    "# TODO: Load dataset.csv \n",
    "df = pd.read_csv(\"dataset.csv\")\n",
    "df"
   ]
  },
  {
   "cell_type": "markdown",
   "id": "a6183fa6",
   "metadata": {
    "papermill": {
     "duration": 0.018643,
     "end_time": "2024-03-26T10:32:31.919264",
     "exception": false,
     "start_time": "2024-03-26T10:32:31.900621",
     "status": "completed"
    },
    "tags": []
   },
   "source": [
    "## Basic Understanding of Dataset"
   ]
  },
  {
   "cell_type": "code",
   "execution_count": 305,
   "id": "fb2ec520",
   "metadata": {
    "papermill": {
     "duration": 0.026885,
     "end_time": "2024-03-26T10:32:31.964139",
     "exception": false,
     "start_time": "2024-03-26T10:32:31.937254",
     "status": "completed"
    },
    "tags": []
   },
   "outputs": [
    {
     "name": "stdout",
     "output_type": "stream",
     "text": [
      "(3479, 8)\n"
     ]
    }
   ],
   "source": [
    "# TODO: Print Shape of our Dataset\n",
    "print(df.shape)"
   ]
  },
  {
   "cell_type": "code",
   "execution_count": 306,
   "id": "d19c8baa",
   "metadata": {
    "papermill": {
     "duration": 0.027252,
     "end_time": "2024-03-26T10:32:32.010257",
     "exception": false,
     "start_time": "2024-03-26T10:32:31.983005",
     "status": "completed"
    },
    "tags": []
   },
   "outputs": [
    {
     "name": "stdout",
     "output_type": "stream",
     "text": [
      "Index(['Area', 'Room', 'Parking', 'Warehouse', 'Elevator', 'Address', 'Price',\n",
      "       'Price(USD)'],\n",
      "      dtype='object')\n"
     ]
    }
   ],
   "source": [
    "# TODO: Print Columns of Dataset\n",
    "print(df.columns)"
   ]
  },
  {
   "cell_type": "code",
   "execution_count": 307,
   "id": "791d9366",
   "metadata": {
    "papermill": {
     "duration": 0.02792,
     "end_time": "2024-03-26T10:32:32.057565",
     "exception": false,
     "start_time": "2024-03-26T10:32:32.029645",
     "status": "completed"
    },
    "tags": []
   },
   "outputs": [
    {
     "name": "stdout",
     "output_type": "stream",
     "text": [
      "  Area  Room  Parking  Warehouse  Elevator         Address         Price  \\\n",
      "0   63     1     True       True      True         Shahran  1.850000e+09   \n",
      "1   60     1     True       True      True         Shahran  1.850000e+09   \n",
      "2   79     2     True       True      True          Pardis  5.500000e+08   \n",
      "3   95     2     True       True      True   Shahrake Qods  9.025000e+08   \n",
      "4  123     2     True       True      True  Shahrake Gharb  7.000000e+09   \n",
      "\n",
      "   Price(USD)  \n",
      "0    61666.67  \n",
      "1    61666.67  \n",
      "2    18333.33  \n",
      "3    30083.33  \n",
      "4   233333.33  \n"
     ]
    }
   ],
   "source": [
    "# TODO: Print first 5 rows of the dataset\n",
    "print(df.head(5))"
   ]
  },
  {
   "cell_type": "code",
   "execution_count": 308,
   "id": "ca2d7c6d",
   "metadata": {
    "papermill": {
     "duration": 0.027624,
     "end_time": "2024-03-26T10:32:32.106662",
     "exception": false,
     "start_time": "2024-03-26T10:32:32.079038",
     "status": "completed"
    },
    "tags": []
   },
   "outputs": [
    {
     "name": "stdout",
     "output_type": "stream",
     "text": [
      "     Area  Room  Parking  Warehouse  Elevator             Address  \\\n",
      "3474   86     2     True       True      True  Southern Janatabad   \n",
      "3475   83     2     True       True      True            Niavaran   \n",
      "3476   75     2    False      False     False              Parand   \n",
      "3477  105     2     True       True      True              Dorous   \n",
      "3478   82     2    False       True      True              Parand   \n",
      "\n",
      "             Price  Price(USD)  \n",
      "3474  3.500000e+09   116666.67  \n",
      "3475  6.800000e+09   226666.67  \n",
      "3476  3.650000e+08    12166.67  \n",
      "3477  5.600000e+09   186666.67  \n",
      "3478  3.600000e+08    12000.00  \n"
     ]
    }
   ],
   "source": [
    "# TODO: Print last 5 rows of the dataset\n",
    "print(df.tail(5))"
   ]
  },
  {
   "cell_type": "code",
   "execution_count": 309,
   "id": "af45139e",
   "metadata": {
    "papermill": {
     "duration": 0.026337,
     "end_time": "2024-03-26T10:32:32.152357",
     "exception": false,
     "start_time": "2024-03-26T10:32:32.126020",
     "status": "completed"
    },
    "tags": []
   },
   "outputs": [
    {
     "name": "stdout",
     "output_type": "stream",
     "text": [
      "208 Number of Duplicated\n",
      "0.05978729519977005 The percentage of Duplicated\n"
     ]
    }
   ],
   "source": [
    "# TODO: Number of Duplicated in our dataset\n",
    "print(sum(df.duplicated()), \"Number of Duplicated\")\n",
    "# TODO: The percentage of Duplicated in our dataset\n",
    "print(sum(df.duplicated())/len(df), \"The percentage of Duplicated\")"
   ]
  },
  {
   "cell_type": "code",
   "execution_count": 310,
   "id": "b128346f",
   "metadata": {
    "papermill": {
     "duration": 0.026104,
     "end_time": "2024-03-26T10:32:32.197645",
     "exception": false,
     "start_time": "2024-03-26T10:32:32.171541",
     "status": "completed"
    },
    "tags": []
   },
   "outputs": [
    {
     "name": "stdout",
     "output_type": "stream",
     "text": [
      "Area           object\n",
      "Room            int64\n",
      "Parking          bool\n",
      "Warehouse        bool\n",
      "Elevator         bool\n",
      "Address        object\n",
      "Price         float64\n",
      "Price(USD)    float64\n",
      "dtype: object\n"
     ]
    }
   ],
   "source": [
    "# TODO: Types of our Columns in Dataset\n",
    "print(df.dtypes)"
   ]
  },
  {
   "cell_type": "markdown",
   "id": "82f186d1",
   "metadata": {
    "papermill": {
     "duration": 0.018741,
     "end_time": "2024-03-26T10:32:32.235926",
     "exception": false,
     "start_time": "2024-03-26T10:32:32.217185",
     "status": "completed"
    },
    "tags": []
   },
   "source": [
    "**Description**<br>\n",
    "\n",
    "* Except Area feature , all of them have right type . we have to change its type later .<br>\n"
   ]
  },
  {
   "cell_type": "code",
   "execution_count": 311,
   "id": "97f9549f",
   "metadata": {
    "papermill": {
     "duration": 0.027186,
     "end_time": "2024-03-26T10:32:32.281852",
     "exception": false,
     "start_time": "2024-03-26T10:32:32.254666",
     "status": "completed"
    },
    "tags": []
   },
   "outputs": [
    {
     "name": "stdout",
     "output_type": "stream",
     "text": [
      "number of missing values \n",
      " Area           0\n",
      "Room           0\n",
      "Parking        0\n",
      "Warehouse      0\n",
      "Elevator       0\n",
      "Address       23\n",
      "Price          0\n",
      "Price(USD)     0\n",
      "dtype: int64\n",
      "percentage of missing values\n",
      "Area 0.0\n",
      "Room 0.0\n",
      "Parking 0.0\n",
      "Warehouse 0.0\n",
      "Elevator 0.0\n",
      "Address 0.006611095142282265\n",
      "Price 0.0\n",
      "Price(USD) 0.0\n"
     ]
    },
    {
     "name": "stderr",
     "output_type": "stream",
     "text": [
      "C:\\Users\\Zahra\\AppData\\Local\\Temp\\ipykernel_7136\\1977179576.py:6: FutureWarning: Series.__getitem__ treating keys as positions is deprecated. In a future version, integer keys will always be treated as labels (consistent with DataFrame behavior). To access a value by position, use `ser.iloc[pos]`\n",
      "  print(df.isnull().sum().index.tolist()[i], df.isnull().sum()[i]/len(df))\n"
     ]
    }
   ],
   "source": [
    "# TODO: Print the number of missing values in our Dataset for each Column\n",
    "print(\"number of missing values \\n\", df.isnull().sum())\n",
    "# TODO: The percentage of missing values in our Dataset for each Column\n",
    "print(\"percentage of missing values\")\n",
    "for i in range(df.shape[1]):\n",
    "    print(df.isnull().sum().index.tolist()[i], df.isnull().sum()[i]/len(df))"
   ]
  },
  {
   "cell_type": "markdown",
   "id": "e5a2bd00",
   "metadata": {
    "papermill": {
     "duration": 0.019255,
     "end_time": "2024-03-26T10:32:32.319827",
     "exception": false,
     "start_time": "2024-03-26T10:32:32.300572",
     "status": "completed"
    },
    "tags": []
   },
   "source": [
    "**Description**<br>\n",
    "\n",
    "* Due to Address feature plays an important role and it must be exact, we can't replace missing values with anything.\n",
    "* Consequently, we will drop those missing values later."
   ]
  },
  {
   "cell_type": "code",
   "execution_count": 312,
   "id": "a828432b",
   "metadata": {
    "papermill": {
     "duration": 0.026322,
     "end_time": "2024-03-26T10:32:32.365533",
     "exception": false,
     "start_time": "2024-03-26T10:32:32.339211",
     "status": "completed"
    },
    "tags": []
   },
   "outputs": [
    {
     "name": "stdout",
     "output_type": "stream",
     "text": [
      "Area          243\n",
      "Room            6\n",
      "Parking         2\n",
      "Warehouse       2\n",
      "Elevator        2\n",
      "Address       192\n",
      "Price         934\n",
      "Price(USD)    932\n",
      "dtype: int64\n"
     ]
    }
   ],
   "source": [
    "# TODO: Print the cardinality of our Columns\n",
    "print(df.nunique())"
   ]
  },
  {
   "cell_type": "markdown",
   "id": "99cab12d",
   "metadata": {
    "papermill": {
     "duration": 0.019098,
     "end_time": "2024-03-26T10:32:32.403912",
     "exception": false,
     "start_time": "2024-03-26T10:32:32.384814",
     "status": "completed"
    },
    "tags": []
   },
   "source": [
    "## Exploratory Data Analysis"
   ]
  },
  {
   "cell_type": "code",
   "execution_count": 313,
   "id": "b8330498",
   "metadata": {
    "papermill": {
     "duration": 0.10311,
     "end_time": "2024-03-26T10:32:32.526581",
     "exception": false,
     "start_time": "2024-03-26T10:32:32.423471",
     "status": "completed"
    },
    "tags": []
   },
   "outputs": [
    {
     "data": {
      "image/png": "[encoded data removed]",
      "text/plain": [
       "<Figure size 640x480 with 1 Axes>"
      ]
     },
     "metadata": {},
     "output_type": "display_data"
    }
   ],
   "source": [
    "# TODO: Plot the distribution of prices from the dataset using a histogram with kernel density estimation enabled, specifying a palette and setting the number of bins to 100.\n",
    "plt.hist(df[\"Price\"], bins=100)\n",
    "plt.show()"
   ]
  },
  {
   "cell_type": "markdown",
   "id": "fad15328",
   "metadata": {
    "papermill": {
     "duration": 0.01897,
     "end_time": "2024-03-26T10:32:32.565372",
     "exception": false,
     "start_time": "2024-03-26T10:32:32.546402",
     "status": "completed"
    },
    "tags": []
   },
   "source": [
    "**Description**<br>\n",
    "\n",
    "* Most houses have roughly close price in one third of the first part\n",
    "* Outliers are obvious now(on the right side)"
   ]
  },
  {
   "cell_type": "code",
   "execution_count": 314,
   "id": "90e8773c",
   "metadata": {
    "papermill": {
     "duration": 0.02682,
     "end_time": "2024-03-26T10:32:32.611437",
     "exception": false,
     "start_time": "2024-03-26T10:32:32.584617",
     "status": "completed"
    },
    "tags": []
   },
   "outputs": [
    {
     "data": {
      "image/png": "[encoded data removed]",
      "text/plain": [
       "<Figure size 640x480 with 1 Axes>"
      ]
     },
     "metadata": {},
     "output_type": "display_data"
    }
   ],
   "source": [
    "# TODO: Visualize the distribution of the number of rooms (Room) from the dataset using a histogram.\n",
    "plt.hist(df[\"Room\"], bins=10)\n",
    "plt.show()"
   ]
  },
  {
   "cell_type": "markdown",
   "id": "4b58593c",
   "metadata": {
    "papermill": {
     "duration": 0.019582,
     "end_time": "2024-03-26T10:32:32.650523",
     "exception": false,
     "start_time": "2024-03-26T10:32:32.630941",
     "status": "completed"
    },
    "tags": []
   },
   "source": [
    "**Description**<br>\n",
    "\n",
    "* About 2000 houses have exactly 2 rooms (most houses) \n",
    "* Distribution of 1 and 3 rooms are roughly the same (a little more 3 rooms)\n",
    "* we have not many houses with 4 or 5 rooms (in total about 150 houses)\n",
    "* houses without room is rarely seen \n",
    "\n",
    "**Conclusion**\n",
    "* Mean of rooms is roughly 2."
   ]
  },
  {
   "cell_type": "code",
   "execution_count": 315,
   "id": "1fddea69",
   "metadata": {
    "papermill": {
     "duration": 0.027867,
     "end_time": "2024-03-26T10:32:32.698361",
     "exception": false,
     "start_time": "2024-03-26T10:32:32.670494",
     "status": "completed"
    },
    "tags": []
   },
   "outputs": [
    {
     "data": {
      "image/png": "[encoded data removed]",
      "text/plain": [
       "<Figure size 500x1000 with 3 Axes>"
      ]
     },
     "metadata": {},
     "output_type": "display_data"
    }
   ],
   "source": [
    "# TODO: Create subplots to visualize the distribution of boolean columns ('Parking', 'Warehouse', 'Elevator') from the dataset using countplots.\n",
    "fig, axs = plt.subplots(3, 1, figsize=(5, 10))\n",
    "categorical_vars = ['Parking', 'Warehouse', 'Elevator']\n",
    "for i, var in enumerate(categorical_vars):\n",
    "    ax = axs[i]\n",
    "    df[var].value_counts().plot(kind='bar', ax=ax)\n",
    "plt.tight_layout()\n",
    "plt.show()"
   ]
  },
  {
   "cell_type": "markdown",
   "id": "d044f4c3",
   "metadata": {
    "papermill": {
     "duration": 0.027231,
     "end_time": "2024-03-26T10:32:32.753611",
     "exception": false,
     "start_time": "2024-03-26T10:32:32.726380",
     "status": "completed"
    },
    "tags": []
   },
   "source": [
    "**Description**<br>\n",
    "\n",
    "* Most houses have Parking , Warehouse and Elevator (all these three features )\n",
    "* Most houses have Warehouse.(houses without warehouse are very low)\n",
    "* Those houses without Parking and Elevator have the same distribution(less than 1000 more than 500)\n"
   ]
  },
  {
   "cell_type": "markdown",
   "id": "ac0e035f",
   "metadata": {
    "papermill": {
     "duration": 0.023864,
     "end_time": "2024-03-26T10:32:32.803511",
     "exception": false,
     "start_time": "2024-03-26T10:32:32.779647",
     "status": "completed"
    },
    "tags": []
   },
   "source": [
    "## Feature Engineering"
   ]
  },
  {
   "cell_type": "code",
   "execution_count": 316,
   "id": "0b612be5",
   "metadata": {
    "papermill": {
     "duration": 0.030949,
     "end_time": "2024-03-26T10:32:32.855410",
     "exception": false,
     "start_time": "2024-03-26T10:32:32.824461",
     "status": "completed"
    },
    "tags": []
   },
   "outputs": [
    {
     "name": "stdout",
     "output_type": "stream",
     "text": [
      "<class 'pandas.core.frame.DataFrame'>\n",
      "RangeIndex: 3479 entries, 0 to 3478\n",
      "Data columns (total 8 columns):\n",
      " #   Column      Non-Null Count  Dtype  \n",
      "---  ------      --------------  -----  \n",
      " 0   Area        3479 non-null   object \n",
      " 1   Room        3479 non-null   int64  \n",
      " 2   Parking     3479 non-null   bool   \n",
      " 3   Warehouse   3479 non-null   bool   \n",
      " 4   Elevator    3479 non-null   bool   \n",
      " 5   Address     3456 non-null   object \n",
      " 6   Price       3479 non-null   float64\n",
      " 7   Price(USD)  3479 non-null   float64\n",
      "dtypes: bool(3), float64(2), int64(1), object(2)\n",
      "memory usage: 146.2+ KB\n",
      "None\n"
     ]
    }
   ],
   "source": [
    "# TODO: Display the data types of columns in the dataset.\n",
    "print(df.info())"
   ]
  },
  {
   "cell_type": "markdown",
   "id": "00e54d15",
   "metadata": {
    "papermill": {
     "duration": 0.021461,
     "end_time": "2024-03-26T10:32:32.897943",
     "exception": false,
     "start_time": "2024-03-26T10:32:32.876482",
     "status": "completed"
    },
    "tags": []
   },
   "source": [
    "**Description**<br>\n",
    "\n",
    "The type of Area must be changed if we want to show and do feature engineering .<br>\n",
    "\n",
    "To be possible to change its type we need to remove comma between numbers than we are capable changing its type.\n"
   ]
  },
  {
   "cell_type": "code",
   "execution_count": 317,
   "id": "3ee81a6b",
   "metadata": {
    "papermill": {
     "duration": 0.028703,
     "end_time": "2024-03-26T10:32:32.949756",
     "exception": false,
     "start_time": "2024-03-26T10:32:32.921053",
     "status": "completed"
    },
    "tags": []
   },
   "outputs": [
    {
     "name": "stdout",
     "output_type": "stream",
     "text": [
      "Area          float64\n",
      "Room            int64\n",
      "Parking          bool\n",
      "Warehouse        bool\n",
      "Elevator         bool\n",
      "Address        object\n",
      "Price         float64\n",
      "Price(USD)    float64\n",
      "dtype: object\n"
     ]
    }
   ],
   "source": [
    "# TODO: Remove commas from the 'Area' column and convert it to numeric data type.\n",
    "df['Area'] = pd.to_numeric(df['Area'], errors='coerce')\n",
    "print(df.dtypes)"
   ]
  },
  {
   "cell_type": "code",
   "execution_count": 318,
   "id": "086689be",
   "metadata": {
    "papermill": {
     "duration": 0.028389,
     "end_time": "2024-03-26T10:32:32.998898",
     "exception": false,
     "start_time": "2024-03-26T10:32:32.970509",
     "status": "completed"
    },
    "tags": []
   },
   "outputs": [
    {
     "name": "stdout",
     "output_type": "stream",
     "text": [
      "count    3473.000000\n",
      "mean      106.774547\n",
      "std        69.365567\n",
      "min        30.000000\n",
      "25%        69.000000\n",
      "50%        90.000000\n",
      "75%       120.000000\n",
      "max       929.000000\n",
      "Name: Area, dtype: float64\n"
     ]
    }
   ],
   "source": [
    "# TODO: Generate descriptive statistics for the 'Area' column in the dataset.\n",
    "print(df['Area'].describe())"
   ]
  },
  {
   "cell_type": "markdown",
   "id": "c6d5bf58",
   "metadata": {
    "papermill": {
     "duration": 0.020353,
     "end_time": "2024-03-26T10:32:33.039876",
     "exception": false,
     "start_time": "2024-03-26T10:32:33.019523",
     "status": "completed"
    },
    "tags": []
   },
   "source": [
    "**Description**<br>\n",
    "\n",
    "We are going to divide Area feature to 4 category : Small(0-30) - AveUnderMean(30-90) - AveUpperMean(90-120)- High(120-...)\n",
    "\n",
    "except these features other will be replaced to nan values"
   ]
  },
  {
   "cell_type": "code",
   "execution_count": 319,
   "id": "f1d9af15",
   "metadata": {
    "papermill": {
     "duration": 0.034668,
     "end_time": "2024-03-26T10:32:33.095013",
     "exception": false,
     "start_time": "2024-03-26T10:32:33.060345",
     "status": "completed"
    },
    "tags": []
   },
   "outputs": [
    {
     "name": "stdout",
     "output_type": "stream",
     "text": [
      "       Area  Room  Parking  Warehouse  Elevator             Address  \\\n",
      "0      63.0     1     True       True      True             Shahran   \n",
      "1      60.0     1     True       True      True             Shahran   \n",
      "2      79.0     2     True       True      True              Pardis   \n",
      "3      95.0     2     True       True      True       Shahrake Qods   \n",
      "4     123.0     2     True       True      True      Shahrake Gharb   \n",
      "...     ...   ...      ...        ...       ...                 ...   \n",
      "3474   86.0     2     True       True      True  Southern Janatabad   \n",
      "3475   83.0     2     True       True      True            Niavaran   \n",
      "3476   75.0     2    False      False     False              Parand   \n",
      "3477  105.0     2     True       True      True              Dorous   \n",
      "3478   82.0     2    False       True      True              Parand   \n",
      "\n",
      "             Price  Price(USD)      AreaSize  \n",
      "0     1.850000e+09    61666.67  AveUnderMean  \n",
      "1     1.850000e+09    61666.67  AveUnderMean  \n",
      "2     5.500000e+08    18333.33  AveUnderMean  \n",
      "3     9.025000e+08    30083.33  AveUpperMean  \n",
      "4     7.000000e+09   233333.33          High  \n",
      "...            ...         ...           ...  \n",
      "3474  3.500000e+09   116666.67  AveUnderMean  \n",
      "3475  6.800000e+09   226666.67  AveUnderMean  \n",
      "3476  3.650000e+08    12166.67  AveUnderMean  \n",
      "3477  5.600000e+09   186666.67  AveUpperMean  \n",
      "3478  3.600000e+08    12000.00  AveUnderMean  \n",
      "\n",
      "[3479 rows x 9 columns]\n"
     ]
    }
   ],
   "source": [
    "# TODO: Create a new feature 'AreaSize' based on the 'Area' column values, categorizing them as 'Small', 'AveUnderMean', 'AveUpperMean', or 'High'.\n",
    "group_names = ['Small', 'AveUnderMean', 'AveUpperMean', 'High']\n",
    "bins = [0, 30, 90, 120, df['Area'].max()] \n",
    "area_categories = pd.cut(df['Area'], bins, labels=group_names)\n",
    "df = df.assign(**{\"AreaSize\": area_categories})\n",
    "print(df)"
   ]
  },
  {
   "cell_type": "code",
   "execution_count": 320,
   "id": "b255e448",
   "metadata": {
    "papermill": {
     "duration": 0.030729,
     "end_time": "2024-03-26T10:32:33.146435",
     "exception": false,
     "start_time": "2024-03-26T10:32:33.115706",
     "status": "completed"
    },
    "tags": []
   },
   "outputs": [
    {
     "data": {
      "image/png": "[encoded data removed]",
      "text/plain": [
       "<Figure size 640x480 with 1 Axes>"
      ]
     },
     "metadata": {},
     "output_type": "display_data"
    }
   ],
   "source": [
    "# TODO: Visualize the distribution of the 'AreaSize' feature using a countplot.\n",
    "df[\"AreaSize\"].value_counts().plot(kind='bar')\n",
    "plt.show()"
   ]
  },
  {
   "cell_type": "markdown",
   "id": "6fc6304e",
   "metadata": {
    "papermill": {
     "duration": 0.020613,
     "end_time": "2024-03-26T10:32:33.189913",
     "exception": false,
     "start_time": "2024-03-26T10:32:33.169300",
     "status": "completed"
    },
    "tags": []
   },
   "source": [
    "**Description**<br>\n",
    "\n",
    "* As we can see  about half of houses have between 30-90 meters(m2)\n",
    "* Houses with 90-120 meters  have the same contribution with houses which have more than 120 meters\n",
    "* we can realize that right-skewed has happened.(outliers most are on the right part)\n",
    "* very low houeses are with less than 30 meters size.\n"
   ]
  },
  {
   "cell_type": "markdown",
   "id": "0f3c25d1",
   "metadata": {
    "papermill": {
     "duration": 0.020999,
     "end_time": "2024-03-26T10:32:33.231919",
     "exception": false,
     "start_time": "2024-03-26T10:32:33.210920",
     "status": "completed"
    },
    "tags": []
   },
   "source": [
    "We are going to determine 4 level for Price feature : Cheap , AveUnderMean , AveUpperMean , Expensive <br>\n",
    "\n",
    "- `cheap` : 0-25% \n",
    "- `AveUnderMean` : 25%-50%\n",
    "- `AveUpperMean` : 50%-75%\n",
    "- `Expensive` : upper 75%"
   ]
  },
  {
   "cell_type": "code",
   "execution_count": 321,
   "id": "adc0bcbb",
   "metadata": {
    "papermill": {
     "duration": 0.03032,
     "end_time": "2024-03-26T10:32:33.282551",
     "exception": false,
     "start_time": "2024-03-26T10:32:33.252231",
     "status": "completed"
    },
    "tags": []
   },
   "outputs": [
    {
     "name": "stdout",
     "output_type": "stream",
     "text": [
      "       Area  Room  Parking  Warehouse  Elevator             Address  \\\n",
      "0      63.0     1     True       True      True             Shahran   \n",
      "1      60.0     1     True       True      True             Shahran   \n",
      "2      79.0     2     True       True      True              Pardis   \n",
      "3      95.0     2     True       True      True       Shahrake Qods   \n",
      "4     123.0     2     True       True      True      Shahrake Gharb   \n",
      "...     ...   ...      ...        ...       ...                 ...   \n",
      "3474   86.0     2     True       True      True  Southern Janatabad   \n",
      "3475   83.0     2     True       True      True            Niavaran   \n",
      "3476   75.0     2    False      False     False              Parand   \n",
      "3477  105.0     2     True       True      True              Dorous   \n",
      "3478   82.0     2    False       True      True              Parand   \n",
      "\n",
      "             Price  Price(USD)      AreaSize    PriceLevel  \n",
      "0     1.850000e+09    61666.67  AveUnderMean  AveUnderMean  \n",
      "1     1.850000e+09    61666.67  AveUnderMean  AveUnderMean  \n",
      "2     5.500000e+08    18333.33  AveUnderMean         Cheap  \n",
      "3     9.025000e+08    30083.33  AveUpperMean         Cheap  \n",
      "4     7.000000e+09   233333.33          High     Expensive  \n",
      "...            ...         ...           ...           ...  \n",
      "3474  3.500000e+09   116666.67  AveUnderMean  AveUpperMean  \n",
      "3475  6.800000e+09   226666.67  AveUnderMean     Expensive  \n",
      "3476  3.650000e+08    12166.67  AveUnderMean         Cheap  \n",
      "3477  5.600000e+09   186666.67  AveUpperMean  AveUpperMean  \n",
      "3478  3.600000e+08    12000.00  AveUnderMean         Cheap  \n",
      "\n",
      "[3479 rows x 10 columns]\n"
     ]
    }
   ],
   "source": [
    "# TODO: Create a new feature 'PriceLevel' based on the 'Price' column values, categorizing them as 'Cheap', 'AveUnderMean', 'AveUpperMean', or 'Expensive'.\n",
    "group_names = ['Cheap', 'AveUnderMean', 'AveUpperMean', 'Expensive']\n",
    "quartiles = df[\"Price\"].describe()\n",
    "Q1 = quartiles['25%']\n",
    "Q2 = quartiles['50%']\n",
    "Q3 = quartiles['75%']\n",
    "bins = [0, Q1, Q2, Q3, df[\"Price\"].max()] \n",
    "area_categories = pd.cut(df[\"Price\"], bins, labels=group_names)\n",
    "df = df.assign(**{\"PriceLevel\": area_categories})\n",
    "print(df)"
   ]
  },
  {
   "cell_type": "code",
   "execution_count": 322,
   "id": "345c9438",
   "metadata": {
    "papermill": {
     "duration": 0.031253,
     "end_time": "2024-03-26T10:32:33.334987",
     "exception": false,
     "start_time": "2024-03-26T10:32:33.303734",
     "status": "completed"
    },
    "tags": []
   },
   "outputs": [
    {
     "data": {
      "image/png": "[encoded data removed]",
      "text/plain": [
       "<Figure size 640x480 with 1 Axes>"
      ]
     },
     "metadata": {},
     "output_type": "display_data"
    }
   ],
   "source": [
    "# TODO: Visualize the distribution of the 'PriceLevel' feature using a countplot.\n",
    "df[\"PriceLevel\"].value_counts().plot(kind='bar')\n",
    "plt.show()"
   ]
  },
  {
   "cell_type": "markdown",
   "id": "3e2b968f",
   "metadata": {
    "papermill": {
     "duration": 0.023294,
     "end_time": "2024-03-26T10:32:33.380173",
     "exception": false,
     "start_time": "2024-03-26T10:32:33.356879",
     "status": "completed"
    },
    "tags": []
   },
   "source": [
    "**Description**<br>\n",
    "\n",
    "We have very balanced distribution in 4 parts"
   ]
  },
  {
   "cell_type": "markdown",
   "id": "179e178d",
   "metadata": {
    "papermill": {
     "duration": 0.020769,
     "end_time": "2024-03-26T10:32:33.422957",
     "exception": false,
     "start_time": "2024-03-26T10:32:33.402188",
     "status": "completed"
    },
    "tags": []
   },
   "source": [
    "## Data Pre-Processing"
   ]
  },
  {
   "cell_type": "code",
   "execution_count": 323,
   "id": "64feb1a6",
   "metadata": {
    "papermill": {
     "duration": 0.030769,
     "end_time": "2024-03-26T10:32:33.475399",
     "exception": false,
     "start_time": "2024-03-26T10:32:33.444630",
     "status": "completed"
    },
    "tags": []
   },
   "outputs": [
    {
     "name": "stdout",
     "output_type": "stream",
     "text": [
      "       Area  Room  Parking  Warehouse  Elevator                     Address  \\\n",
      "876   102.0     2     True       True      True                  Gheitarieh   \n",
      "2552   58.0     1     True       True      True                      Parand   \n",
      "2875   70.0     2     True      False      True                         Ray   \n",
      "3319   85.0     2     True       True      True                   Farmanieh   \n",
      "3091   56.0     1    False       True     False                    Khavaran   \n",
      "3037   78.0     2     True       True      True                 Si Metri Ji   \n",
      "2527   58.0     1    False      False      True                      Parand   \n",
      "222   113.0     2     True       True      True                    Pasdaran   \n",
      "1037   95.0     2     True       True      True                      Abazar   \n",
      "1053   87.0     2     True       True      True  North Program Organization   \n",
      "\n",
      "             Price  Price(USD)      AreaSize    PriceLevel  \n",
      "876   8.100000e+09   270000.00  AveUpperMean     Expensive  \n",
      "2552  2.750000e+08     9166.67  AveUnderMean         Cheap  \n",
      "2875  1.820000e+09    60666.67  AveUnderMean  AveUnderMean  \n",
      "3319  6.100000e+09   203333.33  AveUnderMean     Expensive  \n",
      "3091  6.680000e+08    22266.67  AveUnderMean         Cheap  \n",
      "3037  1.350000e+09    45000.00  AveUnderMean         Cheap  \n",
      "2527  3.200000e+08    10666.67  AveUnderMean         Cheap  \n",
      "222   8.500000e+09   283333.33  AveUpperMean     Expensive  \n",
      "1037  6.700000e+09   223333.33  AveUpperMean     Expensive  \n",
      "1053  3.000000e+09   100000.00  AveUnderMean  AveUpperMean  \n"
     ]
    }
   ],
   "source": [
    "# TODO: Display a random sample of 10 rows from the dataset.\n",
    "random_sample = df.sample(10)\n",
    "print(random_sample)"
   ]
  },
  {
   "cell_type": "code",
   "execution_count": 324,
   "id": "b70a3934",
   "metadata": {
    "papermill": {
     "duration": 0.03,
     "end_time": "2024-03-26T10:32:33.526482",
     "exception": false,
     "start_time": "2024-03-26T10:32:33.496482",
     "status": "completed"
    },
    "tags": []
   },
   "outputs": [
    {
     "name": "stdout",
     "output_type": "stream",
     "text": [
      "number of missing values \n",
      " Area          0\n",
      "Room          0\n",
      "Parking       0\n",
      "Warehouse     0\n",
      "Elevator      0\n",
      "Address       0\n",
      "Price         0\n",
      "Price(USD)    0\n",
      "AreaSize      0\n",
      "PriceLevel    0\n",
      "dtype: int64\n",
      "Area 0.0\n",
      "Room 0.0\n",
      "Parking 0.0\n",
      "Warehouse 0.0\n",
      "Elevator 0.0\n",
      "Address 0.0\n",
      "Price 0.0\n",
      "Price(USD) 0.0\n",
      "AreaSize 0.0\n",
      "PriceLevel 0.0\n"
     ]
    },
    {
     "name": "stderr",
     "output_type": "stream",
     "text": [
      "C:\\Users\\Zahra\\AppData\\Local\\Temp\\ipykernel_7136\\2735337232.py:4: FutureWarning: Series.__getitem__ treating keys as positions is deprecated. In a future version, integer keys will always be treated as labels (consistent with DataFrame behavior). To access a value by position, use `ser.iloc[pos]`\n",
      "  print(random_sample.isnull().sum().index.tolist()[i], random_sample.isnull().sum()[i]/len(random_sample))\n"
     ]
    }
   ],
   "source": [
    "# TODO: Calculate the number and percentage of missing values for each column in the dataset and display the results. Highlight the column with the maximum percentage of missing values in red.\n",
    "print(\"number of missing values \\n\", random_sample.isnull().sum())\n",
    "for i in range(random_sample.shape[1]):\n",
    "    print(random_sample.isnull().sum().index.tolist()[i], random_sample.isnull().sum()[i]/len(random_sample))"
   ]
  },
  {
   "cell_type": "markdown",
   "id": "bb14b716",
   "metadata": {
    "papermill": {
     "duration": 0.024926,
     "end_time": "2024-03-26T10:32:33.573328",
     "exception": false,
     "start_time": "2024-03-26T10:32:33.548402",
     "status": "completed"
    },
    "tags": []
   },
   "source": [
    "    \n",
    "**Description**<br>\n",
    "\n",
    "Address (location of house) is crucial , wa cant replace missing values with like(most frequent)\n",
    "(if we do that our model doesnt have good prediction) <br>\n",
    "So , we easily drop those missing values"
   ]
  },
  {
   "cell_type": "code",
   "execution_count": 325,
   "id": "68e26a90",
   "metadata": {
    "papermill": {
     "duration": 0.029662,
     "end_time": "2024-03-26T10:32:33.629445",
     "exception": false,
     "start_time": "2024-03-26T10:32:33.599783",
     "status": "completed"
    },
    "tags": []
   },
   "outputs": [
    {
     "name": "stdout",
     "output_type": "stream",
     "text": [
      "       Area  Room  Parking  Warehouse  Elevator             Address  \\\n",
      "0      63.0     1     True       True      True             Shahran   \n",
      "1      60.0     1     True       True      True             Shahran   \n",
      "2      79.0     2     True       True      True              Pardis   \n",
      "3      95.0     2     True       True      True       Shahrake Qods   \n",
      "4     123.0     2     True       True      True      Shahrake Gharb   \n",
      "...     ...   ...      ...        ...       ...                 ...   \n",
      "3474   86.0     2     True       True      True  Southern Janatabad   \n",
      "3475   83.0     2     True       True      True            Niavaran   \n",
      "3476   75.0     2    False      False     False              Parand   \n",
      "3477  105.0     2     True       True      True              Dorous   \n",
      "3478   82.0     2    False       True      True              Parand   \n",
      "\n",
      "             Price  Price(USD)      AreaSize    PriceLevel  \n",
      "0     1.850000e+09    61666.67  AveUnderMean  AveUnderMean  \n",
      "1     1.850000e+09    61666.67  AveUnderMean  AveUnderMean  \n",
      "2     5.500000e+08    18333.33  AveUnderMean         Cheap  \n",
      "3     9.025000e+08    30083.33  AveUpperMean         Cheap  \n",
      "4     7.000000e+09   233333.33          High     Expensive  \n",
      "...            ...         ...           ...           ...  \n",
      "3474  3.500000e+09   116666.67  AveUnderMean  AveUpperMean  \n",
      "3475  6.800000e+09   226666.67  AveUnderMean     Expensive  \n",
      "3476  3.650000e+08    12166.67  AveUnderMean         Cheap  \n",
      "3477  5.600000e+09   186666.67  AveUpperMean  AveUpperMean  \n",
      "3478  3.600000e+08    12000.00  AveUnderMean         Cheap  \n",
      "\n",
      "[3450 rows x 10 columns]\n"
     ]
    }
   ],
   "source": [
    "# TODO: Remove rows with missing values from the dataset.\n",
    "filtered_df = df.dropna()\n",
    "print(filtered_df)"
   ]
  },
  {
   "cell_type": "code",
   "execution_count": 326,
   "id": "01add77e",
   "metadata": {
    "papermill": {
     "duration": 0.028892,
     "end_time": "2024-03-26T10:32:33.686342",
     "exception": false,
     "start_time": "2024-03-26T10:32:33.657450",
     "status": "completed"
    },
    "tags": []
   },
   "outputs": [
    {
     "name": "stdout",
     "output_type": "stream",
     "text": [
      "Area          0\n",
      "Room          0\n",
      "Parking       0\n",
      "Warehouse     0\n",
      "Elevator      0\n",
      "Address       0\n",
      "Price         0\n",
      "Price(USD)    0\n",
      "AreaSize      0\n",
      "PriceLevel    0\n",
      "dtype: int64\n"
     ]
    }
   ],
   "source": [
    "# TODO: Confirm that there are no missing values remaining in the dataset after removing them.\n",
    "print(filtered_df.isnull().sum())"
   ]
  },
  {
   "cell_type": "code",
   "execution_count": 327,
   "id": "c1af5778",
   "metadata": {
    "papermill": {
     "duration": 0.028948,
     "end_time": "2024-03-26T10:32:33.736065",
     "exception": false,
     "start_time": "2024-03-26T10:32:33.707117",
     "status": "completed"
    },
    "tags": []
   },
   "outputs": [
    {
     "name": "stdout",
     "output_type": "stream",
     "text": [
      "Number of Duplicated is 208\n",
      "The percentage of Duplicated is 0.06028985507246377\n"
     ]
    }
   ],
   "source": [
    "# TODO: Identify and count duplicated values in the dataset. Calculate and print the percentage of duplicated values.\n",
    "print(\"Number of Duplicated is\", sum(filtered_df.duplicated()))\n",
    "print(\"The percentage of Duplicated is\", sum(filtered_df.duplicated())/len(filtered_df))"
   ]
  },
  {
   "cell_type": "markdown",
   "id": "8020b2bf",
   "metadata": {
    "papermill": {
     "duration": 0.021486,
     "end_time": "2024-03-26T10:32:33.778793",
     "exception": false,
     "start_time": "2024-03-26T10:32:33.757307",
     "status": "completed"
    },
    "tags": []
   },
   "source": [
    "**Description**<br>\n",
    "\n",
    "We have 208 duplicated values .\n",
    "We can easily drop them"
   ]
  },
  {
   "cell_type": "code",
   "execution_count": 328,
   "id": "33f4c1a2",
   "metadata": {
    "papermill": {
     "duration": 0.030462,
     "end_time": "2024-03-26T10:32:33.830901",
     "exception": false,
     "start_time": "2024-03-26T10:32:33.800439",
     "status": "completed"
    },
    "tags": []
   },
   "outputs": [
    {
     "data": {
      "text/html": [
       "<div>\n",
       "<style scoped>\n",
       "    .dataframe tbody tr th:only-of-type {\n",
       "        vertical-align: middle;\n",
       "    }\n",
       "\n",
       "    .dataframe tbody tr th {\n",
       "        vertical-align: top;\n",
       "    }\n",
       "\n",
       "    .dataframe thead th {\n",
       "        text-align: right;\n",
       "    }\n",
       "</style>\n",
       "<table border=\"1\" class=\"dataframe\">\n",
       "  <thead>\n",
       "    <tr style=\"text-align: right;\">\n",
       "      <th></th>\n",
       "      <th>index</th>\n",
       "      <th>Area</th>\n",
       "      <th>Room</th>\n",
       "      <th>Parking</th>\n",
       "      <th>Warehouse</th>\n",
       "      <th>Elevator</th>\n",
       "      <th>Address</th>\n",
       "      <th>Price</th>\n",
       "      <th>Price(USD)</th>\n",
       "      <th>AreaSize</th>\n",
       "      <th>PriceLevel</th>\n",
       "    </tr>\n",
       "  </thead>\n",
       "  <tbody>\n",
       "    <tr>\n",
       "      <th>0</th>\n",
       "      <td>0</td>\n",
       "      <td>63.0</td>\n",
       "      <td>1</td>\n",
       "      <td>True</td>\n",
       "      <td>True</td>\n",
       "      <td>True</td>\n",
       "      <td>Shahran</td>\n",
       "      <td>1.850000e+09</td>\n",
       "      <td>61666.67</td>\n",
       "      <td>AveUnderMean</td>\n",
       "      <td>AveUnderMean</td>\n",
       "    </tr>\n",
       "    <tr>\n",
       "      <th>1</th>\n",
       "      <td>1</td>\n",
       "      <td>60.0</td>\n",
       "      <td>1</td>\n",
       "      <td>True</td>\n",
       "      <td>True</td>\n",
       "      <td>True</td>\n",
       "      <td>Shahran</td>\n",
       "      <td>1.850000e+09</td>\n",
       "      <td>61666.67</td>\n",
       "      <td>AveUnderMean</td>\n",
       "      <td>AveUnderMean</td>\n",
       "    </tr>\n",
       "    <tr>\n",
       "      <th>2</th>\n",
       "      <td>2</td>\n",
       "      <td>79.0</td>\n",
       "      <td>2</td>\n",
       "      <td>True</td>\n",
       "      <td>True</td>\n",
       "      <td>True</td>\n",
       "      <td>Pardis</td>\n",
       "      <td>5.500000e+08</td>\n",
       "      <td>18333.33</td>\n",
       "      <td>AveUnderMean</td>\n",
       "      <td>Cheap</td>\n",
       "    </tr>\n",
       "    <tr>\n",
       "      <th>3</th>\n",
       "      <td>3</td>\n",
       "      <td>95.0</td>\n",
       "      <td>2</td>\n",
       "      <td>True</td>\n",
       "      <td>True</td>\n",
       "      <td>True</td>\n",
       "      <td>Shahrake Qods</td>\n",
       "      <td>9.025000e+08</td>\n",
       "      <td>30083.33</td>\n",
       "      <td>AveUpperMean</td>\n",
       "      <td>Cheap</td>\n",
       "    </tr>\n",
       "    <tr>\n",
       "      <th>4</th>\n",
       "      <td>4</td>\n",
       "      <td>123.0</td>\n",
       "      <td>2</td>\n",
       "      <td>True</td>\n",
       "      <td>True</td>\n",
       "      <td>True</td>\n",
       "      <td>Shahrake Gharb</td>\n",
       "      <td>7.000000e+09</td>\n",
       "      <td>233333.33</td>\n",
       "      <td>High</td>\n",
       "      <td>Expensive</td>\n",
       "    </tr>\n",
       "    <tr>\n",
       "      <th>...</th>\n",
       "      <td>...</td>\n",
       "      <td>...</td>\n",
       "      <td>...</td>\n",
       "      <td>...</td>\n",
       "      <td>...</td>\n",
       "      <td>...</td>\n",
       "      <td>...</td>\n",
       "      <td>...</td>\n",
       "      <td>...</td>\n",
       "      <td>...</td>\n",
       "      <td>...</td>\n",
       "    </tr>\n",
       "    <tr>\n",
       "      <th>3266</th>\n",
       "      <td>3473</td>\n",
       "      <td>63.0</td>\n",
       "      <td>1</td>\n",
       "      <td>True</td>\n",
       "      <td>True</td>\n",
       "      <td>False</td>\n",
       "      <td>Feiz Garden</td>\n",
       "      <td>1.890000e+09</td>\n",
       "      <td>63000.00</td>\n",
       "      <td>AveUnderMean</td>\n",
       "      <td>AveUnderMean</td>\n",
       "    </tr>\n",
       "    <tr>\n",
       "      <th>3267</th>\n",
       "      <td>3474</td>\n",
       "      <td>86.0</td>\n",
       "      <td>2</td>\n",
       "      <td>True</td>\n",
       "      <td>True</td>\n",
       "      <td>True</td>\n",
       "      <td>Southern Janatabad</td>\n",
       "      <td>3.500000e+09</td>\n",
       "      <td>116666.67</td>\n",
       "      <td>AveUnderMean</td>\n",
       "      <td>AveUpperMean</td>\n",
       "    </tr>\n",
       "    <tr>\n",
       "      <th>3268</th>\n",
       "      <td>3475</td>\n",
       "      <td>83.0</td>\n",
       "      <td>2</td>\n",
       "      <td>True</td>\n",
       "      <td>True</td>\n",
       "      <td>True</td>\n",
       "      <td>Niavaran</td>\n",
       "      <td>6.800000e+09</td>\n",
       "      <td>226666.67</td>\n",
       "      <td>AveUnderMean</td>\n",
       "      <td>Expensive</td>\n",
       "    </tr>\n",
       "    <tr>\n",
       "      <th>3269</th>\n",
       "      <td>3477</td>\n",
       "      <td>105.0</td>\n",
       "      <td>2</td>\n",
       "      <td>True</td>\n",
       "      <td>True</td>\n",
       "      <td>True</td>\n",
       "      <td>Dorous</td>\n",
       "      <td>5.600000e+09</td>\n",
       "      <td>186666.67</td>\n",
       "      <td>AveUpperMean</td>\n",
       "      <td>AveUpperMean</td>\n",
       "    </tr>\n",
       "    <tr>\n",
       "      <th>3270</th>\n",
       "      <td>3478</td>\n",
       "      <td>82.0</td>\n",
       "      <td>2</td>\n",
       "      <td>False</td>\n",
       "      <td>True</td>\n",
       "      <td>True</td>\n",
       "      <td>Parand</td>\n",
       "      <td>3.600000e+08</td>\n",
       "      <td>12000.00</td>\n",
       "      <td>AveUnderMean</td>\n",
       "      <td>Cheap</td>\n",
       "    </tr>\n",
       "  </tbody>\n",
       "</table>\n",
       "<p>3271 rows × 11 columns</p>\n",
       "</div>"
      ],
      "text/plain": [
       "      index   Area  Room  Parking  Warehouse  Elevator             Address  \\\n",
       "0         0   63.0     1     True       True      True             Shahran   \n",
       "1         1   60.0     1     True       True      True             Shahran   \n",
       "2         2   79.0     2     True       True      True              Pardis   \n",
       "3         3   95.0     2     True       True      True       Shahrake Qods   \n",
       "4         4  123.0     2     True       True      True      Shahrake Gharb   \n",
       "...     ...    ...   ...      ...        ...       ...                 ...   \n",
       "3266   3473   63.0     1     True       True     False         Feiz Garden   \n",
       "3267   3474   86.0     2     True       True      True  Southern Janatabad   \n",
       "3268   3475   83.0     2     True       True      True            Niavaran   \n",
       "3269   3477  105.0     2     True       True      True              Dorous   \n",
       "3270   3478   82.0     2    False       True      True              Parand   \n",
       "\n",
       "             Price  Price(USD)      AreaSize    PriceLevel  \n",
       "0     1.850000e+09    61666.67  AveUnderMean  AveUnderMean  \n",
       "1     1.850000e+09    61666.67  AveUnderMean  AveUnderMean  \n",
       "2     5.500000e+08    18333.33  AveUnderMean         Cheap  \n",
       "3     9.025000e+08    30083.33  AveUpperMean         Cheap  \n",
       "4     7.000000e+09   233333.33          High     Expensive  \n",
       "...            ...         ...           ...           ...  \n",
       "3266  1.890000e+09    63000.00  AveUnderMean  AveUnderMean  \n",
       "3267  3.500000e+09   116666.67  AveUnderMean  AveUpperMean  \n",
       "3268  6.800000e+09   226666.67  AveUnderMean     Expensive  \n",
       "3269  5.600000e+09   186666.67  AveUpperMean  AveUpperMean  \n",
       "3270  3.600000e+08    12000.00  AveUnderMean         Cheap  \n",
       "\n",
       "[3271 rows x 11 columns]"
      ]
     },
     "execution_count": 328,
     "metadata": {},
     "output_type": "execute_result"
    }
   ],
   "source": [
    "# TODO: Remove duplicated rows from the dataset, reset the index, and drop the old index column.\n",
    "dropped_df = df.drop_duplicates()\n",
    "dropped_df.reset_index()"
   ]
  },
  {
   "cell_type": "code",
   "execution_count": 329,
   "id": "958f4c2f",
   "metadata": {
    "papermill": {
     "duration": 0.031878,
     "end_time": "2024-03-26T10:32:33.884337",
     "exception": false,
     "start_time": "2024-03-26T10:32:33.852459",
     "status": "completed"
    },
    "tags": []
   },
   "outputs": [
    {
     "name": "stdout",
     "output_type": "stream",
     "text": [
      "(3271, 10)\n"
     ]
    }
   ],
   "source": [
    "# TODO: Print the new shape of the dataset after removing duplicated rows and resetting the index.\n",
    "print(dropped_df.shape)"
   ]
  },
  {
   "cell_type": "code",
   "execution_count": 330,
   "id": "0af32d15",
   "metadata": {
    "papermill": {
     "duration": 0.029109,
     "end_time": "2024-03-26T10:32:33.934488",
     "exception": false,
     "start_time": "2024-03-26T10:32:33.905379",
     "status": "completed"
    },
    "tags": []
   },
   "outputs": [
    {
     "name": "stdout",
     "output_type": "stream",
     "text": [
      "Area           float64\n",
      "Room             int64\n",
      "Parking           bool\n",
      "Warehouse         bool\n",
      "Elevator          bool\n",
      "Address         object\n",
      "Price          float64\n",
      "Price(USD)     float64\n",
      "AreaSize      category\n",
      "PriceLevel    category\n",
      "dtype: object\n"
     ]
    }
   ],
   "source": [
    "# TODO: Display the data types of columns in the dataset after any transformations or modifications.\n",
    "print(dropped_df.dtypes)"
   ]
  },
  {
   "cell_type": "markdown",
   "id": "8416dda6",
   "metadata": {
    "papermill": {
     "duration": 0.020658,
     "end_time": "2024-03-26T10:32:33.975868",
     "exception": false,
     "start_time": "2024-03-26T10:32:33.955210",
     "status": "completed"
    },
    "tags": []
   },
   "source": [
    "**Description**<br>\n",
    "* About dtypes every thing is fine . <br>\n",
    "* We are going to check and discover each feature ."
   ]
  },
  {
   "cell_type": "code",
   "execution_count": 331,
   "id": "abc01159",
   "metadata": {
    "papermill": {
     "duration": 0.029992,
     "end_time": "2024-03-26T10:32:34.026393",
     "exception": false,
     "start_time": "2024-03-26T10:32:33.996401",
     "status": "completed"
    },
    "tags": []
   },
   "outputs": [
    {
     "name": "stdout",
     "output_type": "stream",
     "text": [
      "AreaSize: High count: 860 mean: 13430803023.26\n",
      "AreaSize: AveUpperMean count: 830 mean: 4148522771.08\n",
      "AreaSize: AveUnderMean count: 1782 mean: 2021512631.93\n",
      "AreaSize: Small count: 1 mean: 500000000.0\n"
     ]
    },
    {
     "name": "stderr",
     "output_type": "stream",
     "text": [
      "C:\\Users\\Zahra\\AppData\\Local\\Temp\\ipykernel_7136\\3386466880.py:3: FutureWarning: The default of observed=False is deprecated and will be changed to True in a future version of pandas. Pass observed=False to retain current behavior or observed=True to adopt the future default and silence this warning.\n",
      "  grouped_df = df.groupby('AreaSize')\n"
     ]
    }
   ],
   "source": [
    "# TODO: Calculate the count and mean price for each category of the 'AreaSize' feature and display the results, sorted by 'AreaSize' in descending order.\n",
    "AreaSize_inf = []\n",
    "grouped_df = df.groupby('AreaSize')\n",
    "for name, group_df in grouped_df:\n",
    "    AreaSize_inf.append((name, len(group_df), group_df[\"Price\"].mean()))\n",
    "for i in AreaSize_inf[::-1]:\n",
    "    print('AreaSize:', i[0], end=\" \")\n",
    "    print('count:', i[1], end=\" \")\n",
    "    print('mean:', i[2].round(2))"
   ]
  },
  {
   "cell_type": "markdown",
   "id": "355adee9",
   "metadata": {
    "papermill": {
     "duration": 0.022327,
     "end_time": "2024-03-26T10:32:34.070558",
     "exception": false,
     "start_time": "2024-03-26T10:32:34.048231",
     "status": "completed"
    },
    "tags": []
   },
   "source": [
    "**Description**<br>\n",
    "\n",
    "* Obviously with increasing the meter of a house the price will raise and Mean will be raised too . <br>\n",
    "\n",
    "* Distribution of houses according to Meter is : AveUnderMean - High - AveUpperMean - Small \n",
    "\n",
    "* There is just a house with a small size.(it's an outlier)"
   ]
  },
  {
   "cell_type": "code",
   "execution_count": 332,
   "id": "686638f1",
   "metadata": {
    "papermill": {
     "duration": 0.029838,
     "end_time": "2024-03-26T10:32:34.122520",
     "exception": false,
     "start_time": "2024-03-26T10:32:34.092682",
     "status": "completed"
    },
    "tags": []
   },
   "outputs": [
    {
     "name": "stdout",
     "output_type": "stream",
     "text": [
      "2 Room is 0.564 percent & mean of price is 3322727083.2\n",
      "3 Room is 0.21 percent & mean of price is 10925798497.3\n",
      "1 Room is 0.193 percent & mean of price is 1703751411.6\n",
      "4 Room is 0.02 percent & mean of price is 25600328571.4\n",
      "5 Room is 0.009 percent & mean of price is 33734393939.4\n",
      "0 Room is 0.003 percent & mean of price is 7860500000.0\n"
     ]
    }
   ],
   "source": [
    "# TODO: Calculate the percentage distribution and mean price for each category of the 'Room' feature and display the results, sorted by room number.\n",
    "Room_inf = []\n",
    "grouped_df = df.groupby('Room')\n",
    "for name, group_df in grouped_df:\n",
    "    Room_inf.append((name, round(len(group_df[\"Room\"])/len(df), 3), round(group_df[\"Price\"].mean(),1)))\n",
    "Room_inf = sorted(Room_inf, key=lambda x: x[1], reverse=True)\n",
    "for i in Room_inf:\n",
    "    print(i[0],\"Room is\", i[1],\"percent &\", \"mean of price is\", i[2])"
   ]
  },
  {
   "cell_type": "markdown",
   "id": "3f970bac",
   "metadata": {
    "papermill": {
     "duration": 0.02054,
     "end_time": "2024-03-26T10:32:34.165176",
     "exception": false,
     "start_time": "2024-03-26T10:32:34.144636",
     "status": "completed"
    },
    "tags": []
   },
   "source": [
    "    \n",
    "**Description**<br>\n",
    "\n",
    "We can see the distribution of houses with :   <br>\n",
    "In row 2 , 3 , 1 , 4 , 5   and 0 rooms have the highest distribution. <br>\n",
    "\n",
    "Mean price for each has been shown. <br>\n",
    "Obviously, with raising the number of rooms the cost will be increased.<br>\n",
    "(Duplicate the cost for each 1 room  (except 4rooms to 5rooms)"
   ]
  },
  {
   "cell_type": "code",
   "execution_count": 333,
   "id": "b2b041c9",
   "metadata": {
    "papermill": {
     "duration": 0.029374,
     "end_time": "2024-03-26T10:32:34.215559",
     "exception": false,
     "start_time": "2024-03-26T10:32:34.186185",
     "status": "completed"
    },
    "tags": []
   },
   "outputs": [
    {
     "name": "stdout",
     "output_type": "stream",
     "text": [
      "529 are without parking with 1723625141.8 mean price\n",
      "2950 are with parking with 6010929596.6 mean price\n"
     ]
    }
   ],
   "source": [
    "# TODO: Calculate the count and mean price for each category of the 'Parking' feature and display the results.\n",
    "Parking_inf = []\n",
    "grouped_df = df.groupby('Parking')\n",
    "for name, group_df in grouped_df:\n",
    "    print(len(group_df), \"are with parking with\" if name == True else \"are without parking with\", round(group_df[\"Price\"].mean(),1), \"mean price\")"
   ]
  },
  {
   "cell_type": "markdown",
   "id": "fb03657a",
   "metadata": {
    "papermill": {
     "duration": 0.021484,
     "end_time": "2024-03-26T10:32:34.258275",
     "exception": false,
     "start_time": "2024-03-26T10:32:34.236791",
     "status": "completed"
    },
    "tags": []
   },
   "source": [
    "**Description**<br>\n",
    "\n",
    "* As we can see , most houses have parking (about 5.5x versus those without parking)<br>\n",
    "\n",
    "* Those houses with parking have higher costs.(about fourfold)(transparently Parking is an important feature for price) "
   ]
  },
  {
   "cell_type": "code",
   "execution_count": 334,
   "id": "8179c07b",
   "metadata": {
    "papermill": {
     "duration": 0.030441,
     "end_time": "2024-03-26T10:32:34.311231",
     "exception": false,
     "start_time": "2024-03-26T10:32:34.280790",
     "status": "completed"
    },
    "tags": []
   },
   "outputs": [
    {
     "name": "stdout",
     "output_type": "stream",
     "text": [
      "297 are without warehouse with 2459828619.5 mean price\n",
      "3182 are with warehouse with 5629626307.4 mean price\n"
     ]
    }
   ],
   "source": [
    "# TODO: Calculate the count and mean price for each category of the 'Warehouse' feature and display the results.\n",
    "Warehouse_inf = []\n",
    "grouped_df = df.groupby('Warehouse')\n",
    "for name, group_df in grouped_df:\n",
    "    print(len(group_df), \"are with warehouse with\" if name == True else \"are without warehouse with\", round(group_df[\"Price\"].mean(),1), \"mean price\")"
   ]
  },
  {
   "cell_type": "markdown",
   "id": "695afcc8",
   "metadata": {
    "papermill": {
     "duration": 0.021367,
     "end_time": "2024-03-26T10:32:34.354162",
     "exception": false,
     "start_time": "2024-03-26T10:32:34.332795",
     "status": "completed"
    },
    "tags": []
   },
   "source": [
    "    \n",
    "**Description**<br>\n",
    "\n",
    "* Most houses have Warehouse (about 10x versus those without Warehouse)\n",
    "\n",
    "* Houses with warehouse have higher costs . more than duoble"
   ]
  },
  {
   "cell_type": "code",
   "execution_count": 335,
   "id": "a442845d",
   "metadata": {
    "papermill": {
     "duration": 0.029822,
     "end_time": "2024-03-26T10:32:34.405355",
     "exception": false,
     "start_time": "2024-03-26T10:32:34.375533",
     "status": "completed"
    },
    "tags": []
   },
   "outputs": [
    {
     "name": "stdout",
     "output_type": "stream",
     "text": [
      "740 are without elevator with 3622562702.7 mean price\n",
      "2739 are with elevator with 5828164881.4 mean price\n"
     ]
    }
   ],
   "source": [
    "# TODO: Calculate the count and mean price for each category of the 'Elevator' feature and display the results.\n",
    "Elevator_inf = []\n",
    "grouped_df = df.groupby('Elevator')\n",
    "for name, group_df in grouped_df:\n",
    "    print(len(group_df), \"are with elevator with\" if name == True else \"are without elevator with\", round(group_df[\"Price\"].mean(),1), \"mean price\")"
   ]
  },
  {
   "cell_type": "markdown",
   "id": "4ed10aad",
   "metadata": {
    "papermill": {
     "duration": 0.021843,
     "end_time": "2024-03-26T10:32:34.449483",
     "exception": false,
     "start_time": "2024-03-26T10:32:34.427640",
     "status": "completed"
    },
    "tags": []
   },
   "source": [
    "**Description**<br>\n",
    "\n",
    "* Most houses have Elevator (about 4x versus those without Elevator)\n",
    "\n",
    "* Houses with Elevator have higher costs .about 1.5X \n",
    "\n",
    "* Versus Parking and Warehouse  , Elevator has less influence on price\n"
   ]
  },
  {
   "cell_type": "code",
   "execution_count": 336,
   "id": "d4730d9d",
   "metadata": {
    "papermill": {
     "duration": 0.030491,
     "end_time": "2024-03-26T10:32:34.502169",
     "exception": false,
     "start_time": "2024-03-26T10:32:34.471678",
     "status": "completed"
    },
    "tags": []
   },
   "outputs": [
    {
     "name": "stdout",
     "output_type": "stream",
     "text": [
      "Room     0    1     2    3   4   5\n",
      "Parking                           \n",
      "False    8  245   244   26   1   5\n",
      "True     2  428  1717  706  69  28\n"
     ]
    }
   ],
   "source": [
    "# TODO: Create a cross-tabulation between the 'Parking' and 'Room' features in the dataset.\n",
    "cross_tab = pd.crosstab(df['Parking'], df['Room'])\n",
    "print(cross_tab)"
   ]
  },
  {
   "cell_type": "markdown",
   "id": "6ba289cb",
   "metadata": {
    "papermill": {
     "duration": 0.021467,
     "end_time": "2024-03-26T10:32:34.545371",
     "exception": false,
     "start_time": "2024-03-26T10:32:34.523904",
     "status": "completed"
    },
    "tags": []
   },
   "source": [
    "**Description**<br>\n",
    "\n",
    "* Most houses with 1 room or more have Parking.\n",
    "* With raising the number of rooms , houses with Parking have increasingly raised.\n",
    "\n"
   ]
  },
  {
   "cell_type": "code",
   "execution_count": 337,
   "id": "e426e742",
   "metadata": {
    "papermill": {
     "duration": 0.03104,
     "end_time": "2024-03-26T10:32:34.599094",
     "exception": false,
     "start_time": "2024-03-26T10:32:34.568054",
     "status": "completed"
    },
    "tags": []
   },
   "outputs": [
    {
     "name": "stdout",
     "output_type": "stream",
     "text": [
      "the mean price for without parking without warehouse is 2389036224.5\n",
      "the mean price for without parking with warehouse is 1331971771.8\n",
      "the mean price for with parking without warehouse is 2597207920.8\n",
      "the mean price for with parking with warehouse is 6131949564.8\n"
     ]
    }
   ],
   "source": [
    "# TODO: Calculate the mean price for each combination of 'Parking' and 'Warehouse' features in the dataset and round the results.\n",
    "grouped_data = df.groupby(['Parking', 'Warehouse'])\n",
    "for i, group_df in grouped_data:\n",
    "    print(\"the mean price for\", \"with parking\" if i[0] == True else \"without parking\", \"with warehouse is\" if i[1] == True else \"without warehouse is\", round(group_df[\"Price\"].mean(),1))"
   ]
  },
  {
   "cell_type": "markdown",
   "id": "554e8a89",
   "metadata": {
    "papermill": {
     "duration": 0.021479,
     "end_time": "2024-03-26T10:32:34.641823",
     "exception": false,
     "start_time": "2024-03-26T10:32:34.620344",
     "status": "completed"
    },
    "tags": []
   },
   "source": [
    "**Description**\n",
    "\n",
    "* It can be seen that houses with Warehouse and without Parking have less cost versus those houses with Parking.\n",
    "* If both features exist in a house , the cost of the house will be high.\n"
   ]
  },
  {
   "cell_type": "code",
   "execution_count": 338,
   "id": "e959d72c",
   "metadata": {
    "papermill": {
     "duration": 0.030467,
     "end_time": "2024-03-26T10:32:34.693890",
     "exception": false,
     "start_time": "2024-03-26T10:32:34.663423",
     "status": "completed"
    },
    "tags": []
   },
   "outputs": [
    {
     "name": "stdout",
     "output_type": "stream",
     "text": [
      "the mean price for 0 Room without warehouse is 15329600000.0\n",
      "the mean price for 0 Room with warehouse is 391400000.0\n",
      "the mean price for 1 Room without warehouse is 1356132727.3\n",
      "the mean price for 1 Room with warehouse is 1771669804.6\n",
      "the mean price for 2 Room without warehouse is 1786900662.3\n",
      "the mean price for 2 Room with warehouse is 3450854038.7\n",
      "the mean price for 3 Room without warehouse is 7352833333.3\n",
      "the mean price for 3 Room with warehouse is 11031329113.9\n",
      "the mean price for 4 Room without warehouse is 3673333333.3\n",
      "the mean price for 4 Room with warehouse is 26582134328.4\n",
      "the mean price for 5 Room without warehouse is 9927857142.9\n",
      "the mean price for 5 Room with warehouse is 40143846153.8\n"
     ]
    }
   ],
   "source": [
    "# TODO: Calculate the mean price for each combination of 'Room' and 'Warehouse' features in the dataset and round the results.\n",
    "grouped_data = df.groupby(['Room', 'Warehouse'])\n",
    "for i, group_df in grouped_data:\n",
    "    print(\"the mean price for\", i[0],\"Room\", \"with warehouse is\" if i[1] == True else \"without warehouse is\", round(group_df[\"Price\"].mean(),1))"
   ]
  },
  {
   "cell_type": "markdown",
   "id": "a46e8eaa",
   "metadata": {
    "papermill": {
     "duration": 0.02239,
     "end_time": "2024-03-26T10:32:34.737843",
     "exception": false,
     "start_time": "2024-03-26T10:32:34.715453",
     "status": "completed"
    },
    "tags": []
   },
   "source": [
    "**Description**<br>\n",
    "* Except houses without room , with increasing the number of Rooms and Warehouse existance the cost will be increasingly raised.\n"
   ]
  },
  {
   "cell_type": "code",
   "execution_count": 339,
   "id": "4d086cbf",
   "metadata": {
    "papermill": {
     "duration": 0.03012,
     "end_time": "2024-03-26T10:32:34.790210",
     "exception": false,
     "start_time": "2024-03-26T10:32:34.760090",
     "status": "completed"
    },
    "tags": []
   },
   "outputs": [
    {
     "name": "stdout",
     "output_type": "stream",
     "text": [
      "['Shahran' 'Pardis' 'Shahrake Qods' 'Shahrake Gharb'\n",
      " 'North Program Organization' 'Andisheh' 'West Ferdows Boulevard' 'Narmak'\n",
      " 'Saadat Abad' 'Zafar' 'Islamshahr' 'Pirouzi' 'Shahrake Shahid Bagheri'\n",
      " 'Moniriyeh' 'Velenjak' 'Amirieh' 'Southern Janatabad' 'Salsabil'\n",
      " 'Zargandeh' 'Feiz Garden' 'Water Organization' nan 'ShahrAra' 'Gisha'\n",
      " 'Ray' 'Abbasabad' 'Ostad Moein' 'Farmanieh' 'Parand' 'Punak'\n",
      " 'Qasr-od-Dasht' 'Aqdasieh' 'Pakdasht' 'Railway' 'Central Janatabad'\n",
      " 'East Ferdows Boulevard' 'Pakdasht KhatunAbad' 'Sattarkhan' 'Baghestan'\n",
      " 'Shahryar' 'Northern Janatabad' 'Daryan No'\n",
      " 'Southern Program Organization' 'Rudhen' 'West Pars' 'Afsarieh'\n",
      " 'Marzdaran' 'Dorous' 'Sadeghieh' 'Chahardangeh' 'Baqershahr' 'Jeyhoon'\n",
      " 'Lavizan' 'Shams Abad' 'Fatemi' 'Keshavarz Boulevard' 'Kahrizak'\n",
      " 'Qarchak' 'Northren Jamalzadeh' 'Azarbaijan' 'Bahar'\n",
      " 'Persian Gulf Martyrs Lake' 'Beryanak' 'Heshmatieh' 'Elm-o-Sanat'\n",
      " 'Golestan' 'Shahr-e-Ziba' 'Pasdaran' 'Chardivari' 'Gheitarieh'\n",
      " 'Kamranieh' 'Gholhak' 'Heravi' 'Hashemi' 'Dehkade Olampic' 'Damavand'\n",
      " 'Republic' 'Zaferanieh' 'Qazvin Imamzadeh Hassan' 'Niavaran' 'Valiasr'\n",
      " 'Qalandari' 'Amir Bahador' 'Ekhtiarieh' 'Ekbatan' 'Absard' 'Haft Tir'\n",
      " 'Mahallati' 'Ozgol' 'Tajrish' 'Abazar' 'Koohsar' 'Hekmat' 'Parastar'\n",
      " 'Lavasan' 'Majidieh' 'Southern Chitgar' 'Karimkhan' 'Si Metri Ji'\n",
      " 'Karoon' 'Northern Chitgar' 'East Pars' 'Kook' 'Air force' 'Sohanak'\n",
      " 'Komeil' 'Azadshahr' 'Zibadasht' 'Amirabad' 'Dezashib' 'Elahieh'\n",
      " 'Mirdamad' 'Razi' 'Jordan' 'Mahmoudieh' 'Shahedshahr' 'Yaftabad' 'Mehran'\n",
      " 'Nasim Shahr' 'Tenant' 'Chardangeh' 'Fallah' 'Eskandari' 'Shahrakeh Naft'\n",
      " 'Ajudaniye' 'Tehransar' 'Nawab' 'Yousef Abad' 'Northern Suhrawardi'\n",
      " 'Villa' 'Hakimiyeh' 'Nezamabad' 'Garden of Saba' 'Tarasht' 'Azari'\n",
      " 'Shahrake Apadana' 'Araj' 'Vahidieh' 'Malard' 'Shahrake Azadi' 'Darband'\n",
      " 'Vanak' 'Tehran Now' 'Darabad' 'Eram' 'Atabak' 'Sabalan' 'SabaShahr'\n",
      " 'Shahrake Madaen' 'Waterfall' 'Ahang' 'Salehabad' 'Pishva' 'Enghelab'\n",
      " 'Islamshahr Elahieh' 'Ray - Montazeri' 'Firoozkooh Kuhsar' 'Ghoba'\n",
      " 'Mehrabad' 'Southern Suhrawardi' 'Abuzar' 'Dolatabad' 'Hor Square'\n",
      " 'Taslihat' 'Kazemabad' 'Robat Karim' 'Ray - Pilgosh' 'Ghiyamdasht'\n",
      " 'Telecommunication' 'Mirza Shirazi' 'Gandhi' 'Argentina' 'Seyed Khandan'\n",
      " 'Shahrake Quds' 'Safadasht' 'Khademabad Garden' 'Hassan Abad' 'Chidz'\n",
      " 'Khavaran' 'Boloorsazi' 'Mehrabad River River' 'Varamin - Beheshti'\n",
      " 'Shoosh' 'Thirteen November' 'Darakeh' 'Aliabad South' 'Alborz Complex'\n",
      " 'Firoozkooh' 'Vahidiyeh' 'Shadabad' 'Naziabad' 'Javadiyeh' 'Yakhchiabad']\n"
     ]
    }
   ],
   "source": [
    "# TODO: Display the unique values of the 'Address' column in the dataset.\n",
    "unique_values = df[\"Address\"].unique()\n",
    "print(unique_values)"
   ]
  },
  {
   "cell_type": "code",
   "execution_count": 340,
   "id": "c5355c73",
   "metadata": {
    "papermill": {
     "duration": 0.030344,
     "end_time": "2024-03-26T10:32:34.842836",
     "exception": false,
     "start_time": "2024-03-26T10:32:34.812492",
     "status": "completed"
    },
    "tags": []
   },
   "outputs": [
    {
     "name": "stdout",
     "output_type": "stream",
     "text": [
      "193\n"
     ]
    }
   ],
   "source": [
    "# TODO: Calculate and print the number of unique values in the 'Address' column of the dataset.\n",
    "unique_values = df[\"Address\"].unique()\n",
    "print(len(unique_values))"
   ]
  },
  {
   "cell_type": "markdown",
   "id": "a4586abd",
   "metadata": {
    "papermill": {
     "duration": 0.021637,
     "end_time": "2024-03-26T10:32:34.886607",
     "exception": false,
     "start_time": "2024-03-26T10:32:34.864970",
     "status": "completed"
    },
    "tags": []
   },
   "source": [
    "**Description**<br>\n",
    "\n",
    "Because we dont know that all names of addresses  have correct writing or human mistake has happened or not, we are going to \n",
    "remove any probable  problem in case of existance."
   ]
  },
  {
   "cell_type": "code",
   "execution_count": 341,
   "id": "7f9d0a5a-ab82-4ee9-bcb2-6df081d1ec85",
   "metadata": {},
   "outputs": [
    {
     "data": {
      "text/plain": [
       "Ellipsis"
      ]
     },
     "execution_count": 341,
     "metadata": {},
     "output_type": "execute_result"
    }
   ],
   "source": [
    "# TODO: Remove non-alphabetic characters from the 'Address' column in the dataset and display the first five rows.\n",
    "# Codes\n",
    "def remove_non_string_chars(text):\n",
    "  cleaned_text = \"\"\n",
    "  for char in text:\n",
    "    if (ord(char) >= 65 and ord(char) <= 90) or (ord(char) >= 97 and ord(char) <= 122):\n",
    "       cleaned_text += char\n",
    "  return cleaned_text\n",
    "..."
   ]
  },
  {
   "cell_type": "code",
   "execution_count": 342,
   "id": "d3654c42",
   "metadata": {
    "papermill": {
     "duration": 0.029555,
     "end_time": "2024-03-26T10:32:34.988333",
     "exception": false,
     "start_time": "2024-03-26T10:32:34.958778",
     "status": "completed"
    },
    "tags": []
   },
   "outputs": [],
   "source": [
    "# TODO: Calculate and print the number of unique values in the 'Address' column of the dataset after removing non-alphabetic characters.\n",
    "# Codes"
   ]
  },
  {
   "cell_type": "code",
   "execution_count": 343,
   "id": "19412d83",
   "metadata": {
    "papermill": {
     "duration": 0.02973,
     "end_time": "2024-03-26T10:32:35.040560",
     "exception": false,
     "start_time": "2024-03-26T10:32:35.010830",
     "status": "completed"
    },
    "tags": []
   },
   "outputs": [],
   "source": [
    "# TODO: Find and store the top 10 most frequently occurring values in the 'Address' column.\n",
    "# Codes"
   ]
  },
  {
   "cell_type": "code",
   "execution_count": 344,
   "id": "bc9c9608",
   "metadata": {
    "papermill": {
     "duration": 0.030301,
     "end_time": "2024-03-26T10:32:35.093521",
     "exception": false,
     "start_time": "2024-03-26T10:32:35.063220",
     "status": "completed"
    },
    "tags": []
   },
   "outputs": [
    {
     "data": {
      "image/png": "[encoded data removed]",
      "text/plain": [
       "<Figure size 640x480 with 1 Axes>"
      ]
     },
     "metadata": {},
     "output_type": "display_data"
    }
   ],
   "source": [
    "# TODO: Visualize the top 10 most frequently occurring values in the 'Address' column using a bar plot.\n",
    "from collections import Counter\n",
    "counts = Counter(df[\"Address\"])\n",
    "top_10_words = counts.most_common(10)\n",
    "words = [word for word, _ in top_10_words]\n",
    "frequencies = [count for _, count in top_10_words]\n",
    "plt.bar(words, frequencies)\n",
    "for i, label in enumerate(plt.gca().get_xticklabels()):\n",
    "    label.set_rotation(90)\n",
    "plt.xlabel(\"adress\")\n",
    "plt.ylabel(\"frequency\")\n",
    "plt.title(\"top_10_addresses\")\n",
    "plt.show()"
   ]
  },
  {
   "cell_type": "code",
   "execution_count": 345,
   "id": "33efe259",
   "metadata": {
    "papermill": {
     "duration": 0.030939,
     "end_time": "2024-03-26T10:32:35.146734",
     "exception": false,
     "start_time": "2024-03-26T10:32:35.115795",
     "status": "completed"
    },
    "tags": []
   },
   "outputs": [],
   "source": [
    "# TODO: Calculate the mean price for each unique address in the dataset and store the results. Identify and store the top 10 addresses with the highest mean price.\n",
    "# Codes"
   ]
  },
  {
   "cell_type": "code",
   "execution_count": 346,
   "id": "b08004ff",
   "metadata": {
    "papermill": {
     "duration": 0.029327,
     "end_time": "2024-03-26T10:32:35.197478",
     "exception": false,
     "start_time": "2024-03-26T10:32:35.168151",
     "status": "completed"
    },
    "tags": []
   },
   "outputs": [],
   "source": [
    "# TODO: Calculate and round descriptive statistics for the 'Price' column in the dataset.\n",
    "# Codes"
   ]
  },
  {
   "cell_type": "code",
   "execution_count": 347,
   "id": "6eef1a26",
   "metadata": {
    "papermill": {
     "duration": 0.030016,
     "end_time": "2024-03-26T10:32:35.248550",
     "exception": false,
     "start_time": "2024-03-26T10:32:35.218534",
     "status": "completed"
    },
    "tags": []
   },
   "outputs": [],
   "source": [
    "# TODO: Create a copy of the dataset and format the 'Price' and 'Price(USD)' columns to display values with comma separators and no decimal places.\n",
    "# Codes"
   ]
  },
  {
   "cell_type": "markdown",
   "id": "f2064eea",
   "metadata": {
    "papermill": {
     "duration": 0.022409,
     "end_time": "2024-03-26T10:32:35.293451",
     "exception": false,
     "start_time": "2024-03-26T10:32:35.271042",
     "status": "completed"
    },
    "tags": []
   },
   "source": [
    "**Description**<br>\n",
    "* we create new variable to avoid changing the type of Price from numeric to object .\n",
    "* Price and Price(USD) are easily readable now . "
   ]
  },
  {
   "cell_type": "code",
   "execution_count": 348,
   "id": "5eaee62c",
   "metadata": {
    "papermill": {
     "duration": 0.031106,
     "end_time": "2024-03-26T10:32:35.348013",
     "exception": false,
     "start_time": "2024-03-26T10:32:35.316907",
     "status": "completed"
    },
    "tags": []
   },
   "outputs": [
    {
     "data": {
      "text/plain": [
       "<Axes: >"
      ]
     },
     "execution_count": 348,
     "metadata": {},
     "output_type": "execute_result"
    },
    {
     "data": {
      "image/png": "[encoded data removed]",
      "text/plain": [
       "<Figure size 640x480 with 2 Axes>"
      ]
     },
     "metadata": {},
     "output_type": "display_data"
    }
   ],
   "source": [
    "# TODO: Create a heatmap to visualize the correlation matrix of numerical columns in the dataset, including annotations, using the 'summer' colormap and setting the format of annotations to one decimal place.\n",
    "# Codes\n",
    "correlation_matrix = df.select_dtypes(include=np.number).corr()\n",
    "sns.heatmap(correlation_matrix, annot=True, fmt='.1f', cmap='summer')\n"
   ]
  },
  {
   "cell_type": "code",
   "execution_count": 349,
   "id": "8e6ad150",
   "metadata": {
    "papermill": {
     "duration": 0.03233,
     "end_time": "2024-03-26T10:32:35.403014",
     "exception": false,
     "start_time": "2024-03-26T10:32:35.370684",
     "status": "completed"
    },
    "tags": []
   },
   "outputs": [
    {
     "data": {
      "image/png": "[encoded data removed]",
      "text/plain": [
       "<Figure size 640x480 with 1 Axes>"
      ]
     },
     "metadata": {},
     "output_type": "display_data"
    }
   ],
   "source": [
    "# TODO: Visualize the distribution of prices from the dataset using a boxplot.\n",
    "df['Price'].plot(kind='box')\n",
    "plt.show()"
   ]
  },
  {
   "cell_type": "code",
   "execution_count": 350,
   "id": "55a4c7de",
   "metadata": {
    "papermill": {
     "duration": 0.031164,
     "end_time": "2024-03-26T10:32:35.457299",
     "exception": false,
     "start_time": "2024-03-26T10:32:35.426135",
     "status": "completed"
    },
    "tags": []
   },
   "outputs": [
    {
     "name": "stdout",
     "output_type": "stream",
     "text": [
      "Area          4.499888\n",
      "Room          0.626076\n",
      "Price         4.779074\n",
      "Price(USD)    4.779074\n",
      "dtype: float64\n"
     ]
    }
   ],
   "source": [
    "# TODO: Calculate the skewness of each numerical column in the dataset.\n",
    "skewness = df.select_dtypes(include=np.number).skew()\n",
    "print(skewness)"
   ]
  },
  {
   "cell_type": "markdown",
   "id": "122a30c1",
   "metadata": {
    "papermill": {
     "duration": 0.021894,
     "end_time": "2024-03-26T10:32:35.501602",
     "exception": false,
     "start_time": "2024-03-26T10:32:35.479708",
     "status": "completed"
    },
    "tags": []
   },
   "source": [
    "**Description**<br>\n",
    "\n",
    "What are outliers in dataset ?\n",
    "\n",
    "Answer : Outliers are values at the extreme ends of a dataset.\n",
    "\n",
    "One of the best method to find out outliers : **Interquartile range method** \n",
    "\n",
    "Interquartile range method:\n",
    "\n",
    "1: Sort your data from low to high<br>\n",
    "2: Identify the `first quartile` (Q1), the `median`, and the `third quartile` (Q3).<br>\n",
    "3: Calculate your `IQR = Q3 – Q1`<br>\n",
    "4: Calculate your upper fence = `Q3 + (1.5 * IQR)`<br>\n",
    "5: Calculate your lower fence = `Q1 – (1.5 * IQR)`<br>\n",
    "6: Use your fences to highlight any outliers, all values that fall outside your fences.<br>\n",
    "7: Your outliers are any values **greater than your upper fence or less than your lower fence**.<br>\n"
   ]
  },
  {
   "cell_type": "code",
   "execution_count": 351,
   "id": "61c18b0f",
   "metadata": {
    "papermill": {
     "duration": 0.031539,
     "end_time": "2024-03-26T10:32:35.554905",
     "exception": false,
     "start_time": "2024-03-26T10:32:35.523366",
     "status": "completed"
    },
    "tags": []
   },
   "outputs": [],
   "source": [
    "# TODO: Define a function named \"Interquartile_Range\" that calculates the interquartile range (IQR) and fences for outlier detection for a given dataframe and target column.\n",
    "def Interquartile_Range(dataset):\n",
    "    quartiles = dataset.describe()\n",
    "    Q1 = quartiles['25%']\n",
    "    Q2 = quartiles['50%']\n",
    "    Q3 = quartiles['75%']\n",
    "    IQR = Q3-Q1\n",
    "    upper_fence = Q3+1.5*IQR\n",
    "    lower_fence = Q1-1.5*IQR\n",
    "    return (IQR, lower_fence, upper_fence)"
   ]
  },
  {
   "cell_type": "code",
   "execution_count": 352,
   "id": "ef8fa6b5",
   "metadata": {
    "papermill": {
     "duration": 0.030086,
     "end_time": "2024-03-26T10:32:35.607301",
     "exception": false,
     "start_time": "2024-03-26T10:32:35.577215",
     "status": "completed"
    },
    "tags": []
   },
   "outputs": [
    {
     "name": "stdout",
     "output_type": "stream",
     "text": [
      "for price: IQR = 4581750000.0 lower_fence = -5454375000.0 upper_fence = 12872625000.0\n",
      "for area: IQR = 51.0 lower_fence = -7.5 upper_fence = 196.5\n"
     ]
    }
   ],
   "source": [
    "# TODO: Use the \"Interquartile_Range\" function to calculate the interquartile range (IQR) and fences for the 'Price' and 'Area' columns in the dataset.\n",
    "price_IR = Interquartile_Range(df[\"Price\"])\n",
    "area_IR = Interquartile_Range(df[\"Area\"])\n",
    "print(\"for price: IQR =\", price_IR[0], \"lower_fence =\", price_IR[1], \"upper_fence =\", price_IR[2])\n",
    "print(\"for area: IQR =\", area_IR[0], \"lower_fence =\", area_IR[1], \"upper_fence =\", area_IR[2])"
   ]
  },
  {
   "cell_type": "markdown",
   "id": "3de78a1c",
   "metadata": {
    "papermill": {
     "duration": 0.022416,
     "end_time": "2024-03-26T10:32:35.652142",
     "exception": false,
     "start_time": "2024-03-26T10:32:35.629726",
     "status": "completed"
    },
    "tags": []
   },
   "source": [
    "**Description**<br>\n",
    "* It must be considered that most outliers are on the right side dut to **Right_skewed** <br>\n",
    "so , we need to remove outliers on the right(Upper_Fence)\n",
    "\n",
    "* Among all the features , two of them have noticeable effect : **Area** and **Price** <br>\n",
    "We cant find out outliers from  (Room , Parking , Warehouse ,Elevator) features.<br>\n",
    "It's better to find out outliers first from Price , second Area"
   ]
  },
  {
   "cell_type": "code",
   "execution_count": 353,
   "id": "b87ce681",
   "metadata": {
    "papermill": {
     "duration": 0.030397,
     "end_time": "2024-03-26T10:32:35.705035",
     "exception": false,
     "start_time": "2024-03-26T10:32:35.674638",
     "status": "completed"
    },
    "tags": []
   },
   "outputs": [],
   "source": [
    "# TODO: Define upper fence values for the 'Price' and 'Area' columns. Identify and store the indices of data points exceeding these upper fences.\n",
    "price_out_of_range_indices = df.loc[(df['Price'] < price_IR[1]) | (df['Price'] > price_IR[2])].index\n",
    "area_out_of_range_indices = df.loc[(df['Area'] < area_IR[1]) | (df['Area'] > area_IR[2])].index\n"
   ]
  },
  {
   "cell_type": "markdown",
   "id": "a1950396",
   "metadata": {
    "papermill": {
     "duration": 0.022457,
     "end_time": "2024-03-26T10:32:35.749423",
     "exception": false,
     "start_time": "2024-03-26T10:32:35.726966",
     "status": "completed"
    },
    "tags": []
   },
   "source": [
    "**Description**<br>\n",
    "\n",
    "* We can use of a method and add all the Outliers which are greater than UpperFence for both Price and Area and then <br>\n",
    "eliminate them from our Dataset(but in a new variable)"
   ]
  },
  {
   "cell_type": "code",
   "execution_count": 354,
   "id": "571fd470",
   "metadata": {
    "papermill": {
     "duration": 0.031734,
     "end_time": "2024-03-26T10:32:35.804128",
     "exception": false,
     "start_time": "2024-03-26T10:32:35.772394",
     "status": "completed"
    },
    "tags": []
   },
   "outputs": [
    {
     "name": "stdout",
     "output_type": "stream",
     "text": [
      "number of outliers: 186\n",
      "percentage of outliers: 0.05\n",
      "       Area  Room  Parking  Warehouse  Elevator    Address         Price  \\\n",
      "1024  220.0     3     True       True      True    Elahieh  3.520000e+10   \n",
      "1025  240.0     4     True       True      True    Elahieh  3.850000e+10   \n",
      "515   282.0     3     True       True      True  Farmanieh  3.666000e+10   \n",
      "516   282.0     2     True       True      True   Niavaran  3.000000e+10   \n",
      "517   210.0     3     True       True      True  Farmanieh  2.310000e+10   \n",
      "\n",
      "      Price(USD) AreaSize PriceLevel  \n",
      "1024  1173333.33     High  Expensive  \n",
      "1025  1283333.33     High  Expensive  \n",
      "515   1222000.00     High  Expensive  \n",
      "516   1000000.00     High  Expensive  \n",
      "517    770000.00     High  Expensive  \n"
     ]
    }
   ],
   "source": [
    "# TODO: Combine the indices of outliers identified for both 'Price' and 'Area' columns. Print the total number and percentage of outliers. Display the first five rows of the dataset for these outliers.\n",
    "common_indices = set(price_out_of_range_indices).intersection(set(area_out_of_range_indices))\n",
    "filtered_df = df.loc[list(common_indices)]\n",
    "print(\"number of outliers:\", len(common_indices))\n",
    "print(\"percentage of outliers:\", round(len(common_indices)/len(df) ,2))\n",
    "print(filtered_df.head(5))\n"
   ]
  },
  {
   "cell_type": "code",
   "execution_count": 355,
   "id": "6bc6f6e6",
   "metadata": {
    "papermill": {
     "duration": 0.030737,
     "end_time": "2024-03-26T10:32:35.857755",
     "exception": false,
     "start_time": "2024-03-26T10:32:35.827018",
     "status": "completed"
    },
    "tags": []
   },
   "outputs": [],
   "source": [
    "# TODO: Remove rows identified as outliers from the dataset and print the shape of the prepared dataset. Display the first five rows of the prepared dataset.\n",
    "# Codes"
   ]
  },
  {
   "cell_type": "code",
   "execution_count": 356,
   "id": "4a6fdacb",
   "metadata": {
    "papermill": {
     "duration": 0.030521,
     "end_time": "2024-03-26T10:32:35.910517",
     "exception": false,
     "start_time": "2024-03-26T10:32:35.879996",
     "status": "completed"
    },
    "tags": []
   },
   "outputs": [],
   "source": [
    "# TODO: Visualize the distribution of prices from the prepared dataset without outliers using a boxplot.\n",
    "# Codes"
   ]
  },
  {
   "cell_type": "code",
   "execution_count": 357,
   "id": "a0fa58a8",
   "metadata": {
    "papermill": {
     "duration": 0.029765,
     "end_time": "2024-03-26T10:32:35.962183",
     "exception": false,
     "start_time": "2024-03-26T10:32:35.932418",
     "status": "completed"
    },
    "tags": []
   },
   "outputs": [],
   "source": [
    "# TODO: Calculate the skewness of each numerical column in the prepared dataset without outliers.\n",
    "# Codes"
   ]
  },
  {
   "cell_type": "markdown",
   "id": "bb18b900",
   "metadata": {
    "papermill": {
     "duration": 0.022267,
     "end_time": "2024-03-26T10:32:36.006734",
     "exception": false,
     "start_time": "2024-03-26T10:32:35.984467",
     "status": "completed"
    },
    "tags": []
   },
   "source": [
    "**Description**<br>\n",
    "\n",
    "* Now we have more balanced data and its ready to be used for fitting.\n",
    "* Due to we have dropped lots of data from dataset we can use of both(with outliers and without) to check the \n",
    "accuracy for each one ."
   ]
  },
  {
   "cell_type": "markdown",
   "id": "38d66c64-810a-48bb-b89f-7c22bc0de34c",
   "metadata": {},
   "source": [
    "متاسفانه تعداد خیلی کمی از موارد رو به دلیل نداشتن زمان کافی تا ددلاین حل نشده باقی گذاشتم "
   ]
  }
 ],
 "metadata": {
  "colab": {
   "provenance": []
  },
  "kaggle": {
   "accelerator": "none",
   "dataSources": [
    {
     "datasetId": 4671874,
     "sourceId": 7945470,
     "sourceType": "datasetVersion"
    }
   ],
   "dockerImageVersionId": 30673,
   "isGpuEnabled": false,
   "isInternetEnabled": true,
   "language": "python",
   "sourceType": "notebook"
  },
  "kernelspec": {
   "display_name": "Python 3 (ipykernel)",
   "language": "python",
   "name": "python3"
  },
  "language_info": {
   "codemirror_mode": {
    "name": "ipython",
    "version": 3
   },
   "file_extension": ".py",
   "mimetype": "text/x-python",
   "name": "python",
   "nbconvert_exporter": "python",
   "pygments_lexer": "ipython3",
   "version": "3.12.8"
  },
  "papermill": {
   "default_parameters": {},
   "duration": 7.748713,
   "end_time": "2024-03-26T10:32:36.350149",
   "environment_variables": {},
   "exception": null,
   "input_path": "__notebook__.ipynb",
   "output_path": "__notebook__.ipynb",
   "parameters": {},
   "start_time": "2024-03-26T10:32:28.601436",
   "version": "2.5.0"
  }
 },
 "nbformat": 4,
 "nbformat_minor": 5
}
